{
 "cells": [
  {
   "cell_type": "code",
   "execution_count": 63,
   "metadata": {
    "collapsed": false
   },
   "outputs": [],
   "source": [
    "import requests\n",
    "from urllib import quote_plus\n",
    "from urlparse import urljoin\n",
    "from bs4 import BeautifulSoup\n",
    "import musixmatch\n",
    "#from musixmatch.lyrics import Lyrics\n",
    "import pdb \n",
    "\n",
    "\n",
    "BASE_URL = \"http://www.chartlyrics.com/\"\n",
    "#BASE_URL = \"http://api.musixmatch.com/ws/1.1/\"\n",
    "\n",
    "#apikey = \"<a1982976395f38bb96c51f340c7274f3>\"\n",
    "\n",
    "queryString = \"track.search?q_track=\"\n",
    "\n",
    "#try:\n",
    "#chart = musixmatch.ws.track.chart.get(country='it', apikey=apikey)\n",
    "#except musixmatch.api.Error, e:\n",
    "#    pass\n"
   ]
  },
  {
   "cell_type": "code",
   "execution_count": 100,
   "metadata": {
    "collapsed": false
   },
   "outputs": [
    {
     "data": {
      "text/plain": [
       "[u'Every night in my dreams',\n",
       " u'I see you, I feel you',\n",
       " u'That is how I know you go on. ',\n",
       " u'Far across the distance',\n",
       " u'And spaces between us',\n",
       " u'You have come to show you go on ',\n",
       " u'Near, far, wherever you are',\n",
       " u'I believe that the heart does go on',\n",
       " u'Once more you open the door',\n",
       " u\"And you're here in my heart\",\n",
       " u'And my heart will go on and on ',\n",
       " u'Love can touch us one time',\n",
       " u'And last for a lifetime',\n",
       " u\"And never let go till we're gone\",\n",
       " u'Love was when I loved you',\n",
       " u'One true time I hold to',\n",
       " u\"In my life we'll always go on \",\n",
       " u'Near, far, wherever you are',\n",
       " u'I believe that the heart does go on',\n",
       " u'Once more you open the door',\n",
       " u\"And you're here in my heart\",\n",
       " u'And my heart will go on and on ',\n",
       " u\"You're here, there's nothing I fear\",\n",
       " u'And I know that my heart will go on',\n",
       " u\"We'll stay forever this way\",\n",
       " u'You are safe in my heart',\n",
       " u'And my heart will go on and on']"
      ]
     },
     "execution_count": 100,
     "metadata": {},
     "output_type": "execute_result"
    }
   ],
   "source": [
    "\n",
    "\n",
    "song = \"my heart will go on\"\n",
    "#song = \"My Heart Will Go On\"\n",
    "#artist = \"Celine Dion\"\n",
    "    \n",
    "searchURL = BASE_URL + \"search.aspx?q=\" + song\n",
    "#searchURL = BASE_URL + queryString + song\n",
    "fullurl = quote_plus(searchURL, safe=\"%/:=&?~#!+$,;'@()*[]\")\n",
    "#fullurl = quote(searchURL, safe=\"%/:=&?~#!+$,;'@()*[]\")\n",
    "\n",
    "response = requests.get(fullurl)\n",
    "soup = BeautifulSoup(response.text,'lxml')\n",
    "\n",
    "tmp = soup.find_all('a')\n",
    "song_link = tmp[5];\n",
    "\n",
    "# i could also do soup.find('table')\n",
    "\n",
    "link = urljoin(BASE_URL, song_link['href'])\n",
    "response = requests.get(link);\n",
    "\n",
    "soup = BeautifulSoup(response.text,'lxml')\n",
    "#soup.find('head').find('title')\n",
    "#soup.find?\n",
    "#lyrics = soup.find_all('content')\n",
    "\n",
    "lyrics_box = soup.find('p')#.text.strip()\n",
    "\n",
    "try:\n",
    "    lyrics = lyrics_box.text.strip()\n",
    "except:\n",
    "    print \"Couldn't find the lyrics. Try another song.\"    \n",
    "\n",
    "lines = lyrics.splitlines()\n",
    "foo = [line.decode('utf-8') for line in lines]\n",
    "foo\n",
    "#print lyrics\n",
    "# for song_link in tmp: \n",
    "#     link = urljoin(BASE_URL, song_link['href'])\n",
    "#     response = requests.get(link)\n",
    "#     soup = BeautifulSoup(response.text)\n",
    "#     title = soup.find('head').find('title')\n",
    "#     type(title)\n",
    "#    pdb.set_trace()"
   ]
  },
  {
   "cell_type": "code",
   "execution_count": 63,
   "metadata": {
    "collapsed": false
   },
   "outputs": [
    {
     "data": {
      "text/plain": [
       "<title>\n",
       "Céline Dion\tMy Heart Will Go On\tlyrics\n",
       "</title>"
      ]
     },
     "execution_count": 63,
     "metadata": {},
     "output_type": "execute_result"
    }
   ],
   "source": [
    "soup.find('head').find('title')\n"
   ]
  },
  {
   "cell_type": "code",
   "execution_count": 60,
   "metadata": {
    "collapsed": false
   },
   "outputs": [
    {
     "data": {
      "text/plain": [
       "'<?xml version=\"1.0\" encoding=\"UTF-8\" ?> <!DOCTYPE html PUBLIC \"-//W3C//DTD XHTML 1.0 Strict//EN\" \"http://www.w3.org/TR/xhtml1/DTD/xhtml1-strict.dtd\"> <html xmlns=\"http://www.w3.org/1999/xhtml\" xml:lang=\"en\"> <head id=\"CL_headMasterpage\"><meta http-equiv=\"X-UA-Compatible\" content=\"IE=EmulateIE8\" /><meta http-equiv=\"Content-Type\" content=\"text/html; charset=UTF-8\" /><link rel=\"shortcut icon\" href=\"/img/favicon.ico\" type=\"image/x-icon\" /><link rel=\"stylesheet\" type=\"text/css\" media=\"screen\" href=\"/img/stylesheet.css\" /><title>\\rC\\xc3\\xa9line Dion\\tMy Heart Will Go On\\tlyrics\\r\\n</title> <!-- Google Plus --> <script type=\"text/javascript\">\\r(function() {\\rvar po = document.createElement(\\'script\\'); po.type = \\'text/javascript\\'; po.async = true;\\rpo.src = \\'https://apis.google.com/js/plusone.js\\';\\rvar s = document.getElementsByTagName(\\'script\\')[0]; s.parentNode.insertBefore(po, s);\\r})();\\r</script> <!-- END Google Plus --> <!-- GA --> <script type=\"text/javascript\">\\rvar _gaq = _gaq || [];\\r_gaq.push([\\'_setAccount\\', \\'UA-5263824-1\\']);\\r_gaq.push([\\'_trackPageview\\']);\\r(function() {\\rvar ga = document.createElement(\\'script\\'); ga.type = \\'text/javascript\\'; ga.async = true;\\rga.src = (\\'https:\\' == document.location.protocol ? \\'https://ssl\\' : \\'http://www\\') + \\'.google-analytics.com/ga.js\\';\\rvar s = document.getElementsByTagName(\\'script\\')[0]; s.parentNode.insertBefore(ga, s);\\r})();\\r</script> <!-- [END] GA --> <meta name=\"Description\" content=\"Every night in my dreams I see you, I feel you That is how I know you go on.  Far across the distance And spaces between us You have come to show you go on  Near, far, wherever you are I believe that the heart does go on Once more you open the door And you\\'re here in my heart And my heart will go on and on  Love can touch us one time And last for a lifetime And never le...\" /><link href=\"http://www.ChartLyrics.com/cover/IcA0Dw25dk28udUFuaazEg.aspx\" rel=\"image_src\" /></head> <body> <!-- Header --> <div id=\"header_wrap\"> <div id=\"header\"> <a href=\"/\"> <img src=\"/img/logo.png\" id=\"logo\" alt=\"\" /></a> <span class=\"desc\">Weekly Chart Song\\rLyrics for Everyone</span> <ul class=\"navigation\"> <li class=\"current_page_item\"><a href=\"/\" title=\"Lyrics\">\\rLyrics</a></li> <li><a href=\"/search.aspx\" title=\"Search\">\\rSearch</a></li> <li><a href=\"/app/contact.aspx\">\\rContact Us</a></li> <li><a href=\"/api.aspx\" title=\"Search\">\\rAPI</a></li> </ul> </div> </div> <!-- [END] Header --> <!-- Content --> <div id=\"content_wrap\"> <div id=\"content\" class=\"clearfix\"> <div id=\"adtop\"> <!-- CL Top Ad --> <script type=\"text/javascript\"><!--\\ngoogle_ad_client = \"ca-pub-5439878055731936\";\\n/* CL Top */\\ngoogle_ad_slot = \"3952105827\";\\ngoogle_ad_width = 728;\\ngoogle_ad_height = 90;\\n//--> </script> <script type=\"text/javascript\" src=\"http://pagead2.googlesyndication.com/pagead/show_ads.js\"> </script> <!-- [END] CL Top Ad --> </div> <!-- Page --> <div id=\"page\"> <!-- Breadcrumb --> <div id=\"breadcrumb\"> <a href=\"/\">Chart Lyrics</a> &nbsp;&gt;&nbsp; <a href=\"/D12.aspx\">DIL</a>  &nbsp;&gt;&nbsp; <a href=\"/DIp-hCDME0KeFpdVFcKpJg.aspx\">C\\xc3\\xa9line Dion</a>  &nbsp;&gt;&nbsp; My Heart Will Go On\\r</div> <!-- [END] Breadcrumb --> <h1>\\rC\\xc3\\xa9line Dion\\tMy Heart Will Go On</h1> <div class=\"post_meta\"> <div class=\"date meta_small\">\\r5 March 2008</div> <div class=\"comment_count meta_small\">\\r1 Revision</div> <div class=\"comment_count meta_small\"> <a href=\"/app/correct.aspx?lid=MQA0ADUAOAA=\" rel=\"nofollow\">Correct this lyric</a></div> </div> <p> <img class=\"alignright\" width=\"160\" height=\"160\" src=\"/cover/IcA0Dw25dk28udUFuaazEg.aspx\" alt=\"\" title=\"C\\xc3\\xa9line Dion My Heart Will Go On\" />\\rEvery night in my dreams<br />\\r\\nI see you, I feel you<br />\\r\\nThat is how I know you go on.<br /> <br />\\r\\nFar across the distance<br />\\r\\nAnd spaces between us<br />\\r\\nYou have come to show you go on<br /> <br />\\r\\nNear, far, wherever you are<br />\\r\\nI believe that the heart does go on<br />\\r\\nOnce more you open the door<br />\\r\\nAnd you\\'re here in my heart<br />\\r\\nAnd my heart will go on and on<br /> <br />\\r\\nLove can touch us one time<br />\\r\\nAnd last for a lifetime<br />\\r\\nAnd never let go till we\\'re gone<br />\\r\\nLove was when I loved you<br />\\r\\nOne true time I hold to<br />\\r\\nIn my life we\\'ll always go on<br /> <br />\\r\\nNear, far, wherever you are<br />\\r\\nI believe that the heart does go on<br />\\r\\nOnce more you open the door<br />\\r\\nAnd you\\'re here in my heart<br />\\r\\nAnd my heart will go on and on<br /> <br />\\r\\nYou\\'re here, there\\'s nothing I fear<br />\\r\\nAnd I know that my heart will go on<br />\\r\\nWe\\'ll stay forever this way<br />\\r\\nYou are safe in my heart<br />\\r\\nAnd my heart will go on and on\\r</p> <div id=\"adlyric\"> <script type=\"text/javascript\"> <!--\\ngoogle_ad_client = \"ca-pub-5439878055731936\";\\n/* CL Lyric */\\ngoogle_ad_slot = \"7085891077\";\\ngoogle_ad_width = 468;\\ngoogle_ad_height = 60;\\n//--> </script> <script type=\"text/javascript\" src=\"http://pagead2.googlesyndication.com/pagead/show_ads.js\"> </script> </div> </div> <!-- [END] Page --> <!-- sidebar --> <div id=\"sidebar\"> <div class=\"search\"> <form id=\"searchform\" method=\"get\" action=\"/search.aspx\"> <fieldset> <input name=\"q\" id=\"s\" size=\"15\" value=\"Type in a Search Query\" onblur=\"if (this.value == \\'\\'){this.value = \\'Type in a Search Query\\';}\"\\ronfocus=\"if (this.value == \\'Type in a Search Query\\'){this.value = \\'\\';}\" type=\"text\" /> </fieldset> </form> </div> <div class=\"actions_wrap\"> <div class=\"actions\"> <div class=\"action\" style=\"background: url(/img/google-plus.png) no-repeat 23px 3px;\"> <h3 class=\"side_head\"> <g:plusone size=\"medium\"></g:plusone> </h3> </div> <div class=\"action\" style=\"background: url(/img/twitter.png) no-repeat 23px 3px;\"><h3 class=\"side_head\"><a href=\"http://twitter.com/home?status=Lyric http%3a%2f%2fwww.ChartLyrics.com%2fDIp-hCDME0KeFpdVFcKpJg%2fMy%2bHeart%2bWill%2bGo%2bOn.aspx\" rel=\"nofollow\">Twitter</a></h3></div> <div class=\"action\" style=\"background: url(/img/facebook.gif) no-repeat 23px 3px;\"><h3 class=\"side_head\"><a href=\"http://www.facebook.com/sharer.php?u=http%3a%2f%2fwww.ChartLyrics.com%2fDIp-hCDME0KeFpdVFcKpJg%2fMy%2bHeart%2bWill%2bGo%2bOn.aspx&amp;t=C%c3%a9line+Dion%09My+Heart+Will+Go+On%09lyrics\" rel=\"nofollow\">Facebook</a></h3></div> <div class=\"action\" style=\"background: url(/img/digg.png) no-repeat 23px 3px;\"><h3 class=\"side_head\"><a href=\"http://digg.com/submit?phase=2&amp;url=http%3a%2f%2fwww.ChartLyrics.com%2fDIp-hCDME0KeFpdVFcKpJg%2fMy%2bHeart%2bWill%2bGo%2bOn.aspx\" rel=\"nofollow\">Digg</a></h3></div> <div class=\"action\" style=\"background: url(/img/stumbleit.png) no-repeat 23px 3px;\"><h3 class=\"side_head\"><a href=\"http://www.stumbleupon.com/submit?url=http%3a%2f%2fwww.ChartLyrics.com%2fDIp-hCDME0KeFpdVFcKpJg%2fMy%2bHeart%2bWill%2bGo%2bOn.aspx&amp;title=C%c3%a9line+Dion%09My+Heart+Will+Go+On%09lyrics\" rel=\"nofollow\">Stumbleupon</a></h3></div> <div class=\"action\" style=\"background: url(/img/delicious.png) no-repeat 23px 3px;\"><h3 class=\"side_head\"><a href=\"http://del.icio.us/post?url=http%3a%2f%2fwww.ChartLyrics.com%2fDIp-hCDME0KeFpdVFcKpJg%2fMy%2bHeart%2bWill%2bGo%2bOn.aspx&amp;title=C%c3%a9line+Dion%09My+Heart+Will+Go+On%09lyrics\" rel=\"nofollow\">Del.icio.us</a></h3></div> </div> </div> <!-- Ad right --> <div class=\"actions_wrap\"> <div class=\"actions\"> <div id=\"adright\"> <script type=\"text/javascript\"><!--\\ngoogle_ad_client = \"ca-pub-5439878055731936\";\\n/* CL Right */\\ngoogle_ad_slot = \"2575381684\";\\ngoogle_ad_width = 300;\\ngoogle_ad_height = 250;\\n//--> </script> <script type=\"text/javascript\" src=\"http://pagead2.googlesyndication.com/pagead/show_ads.js\"> </script> </div> </div> </div> <!-- [END] Ad right --> </div> <!-- [END] Sidebar --> </div> </div> <!-- [END] Content --> <!-- Footer --> <div id=\"footer_wrap\"> <div id=\"footer\"> <a href=\"/\"> <img src=\"/img/footer_logo.png\" id=\"footer_logo\" alt=\"\" /></a> <div class=\"top_box\"> </div> <div class=\"bottom_box\"> <div style=\"text-align: center\">\\rLetras de canciones \\xc2\\xb7 Letras de can\\xc3\\xa7\\xc3\\xb5es \\xc2\\xb7 Lyrics \\xc2\\xb7 Lyrique \\xc2\\xb7 Songteksten \\xc2\\xb7 \\xcf\\x83\\xcf\\x84\\xce\\xb9\\xcf\\x87\\xce\\xbf\\xce\\xb9 \\xc2\\xb7 \\xd1\\x82\\xd0\\xb5\\xd0\\xba\\xd1\\x81\\xd1\\x82\\xd1\\x8b \\xd0\\xbf\\xd0\\xb5\\xd1\\x81\\xd0\\xb5\\xd0\\xbd \\xc2\\xb7 \\xd8\\xa7\\xd9\\x84\\xd9\\x82\\xd8\\xb5\\xd8\\xa7\\xd8\\xa6\\xd8\\xaf \\xd8\\xa7\\xd9\\x84\\xd8\\xba\\xd9\\x86\\xd8\\xa7\\xd8\\xa1\\xd9\\x8a\\xd9\\x87 \\xc2\\xb7 \\xe0\\xb9\\x80\\xe0\\xb8\\x99\\xe0\\xb8\\xb7\\xe0\\xb9\\x89\\xe0\\xb8\\xad\\xe0\\xb9\\x80\\xe0\\xb8\\x9e\\xe0\\xb8\\xa5\\xe0\\xb8\\x87 \\xc2\\xb7 \\xe3\\x83\\xaa\\xe3\\x83\\xaa\\xe3\\x83\\x83\\xe3\\x82\\xaf \\xc2\\xb7 \\xea\\xb0\\x80\\xec\\x82\\xac \\xc2\\xb7 \\xe5\\x8f\\x99\\xe6\\x83\\x85\\xe8\\xa9\\xa9 \\xc2\\xb7 \\xe6\\x8a\\x92\\xe6\\x83\\x85\\xe6\\xad\\x8c \\xc2\\xb7 \\xe6\\xad\\x8c\\xe8\\xa9\\x9e \\xc2\\xb7 \\xe6\\xad\\x8c\\xe8\\xaf\\x8d\\r</div> </div> </div> </div> <!-- [END] Footer --> </body> </html>'"
      ]
     },
     "execution_count": 60,
     "metadata": {},
     "output_type": "execute_result"
    }
   ],
   "source": [
    "# soup.find('head').find('title')\n",
    "\n",
    "#tmp = soup.select('ul.song_list > li > a')\n",
    "#print(soup.get_text)\n",
    "response.content"
   ]
  },
  {
   "cell_type": "code",
   "execution_count": 57,
   "metadata": {
    "collapsed": false
   },
   "outputs": [
    {
     "data": {
      "text/plain": [
       "u'From the movie \"Titanic\"]\\nEvery night in my dreams\\nI see you, I feel you\\nThat is how I know you go on\\n\\nFar across the distance\\nAnd spaces between us\\nYou have come to show you go on\\n\\nNear, far wherever you are\\nI believe that the heart does go on\\n...\\n\\n******* This Lyrics is NOT for Commercial use *******'"
      ]
     },
     "execution_count": 57,
     "metadata": {},
     "output_type": "execute_result"
    }
   ],
   "source": [
    "import musixmatch\n",
    "import requests\n",
    "import json\n",
    "import nltk\n",
    "\n",
    "apikey = \"a1982976395f38bb96c51f340c7274f3\"\n",
    "\n",
    "#trackname = 'bad touch'\n",
    "trackname = 'my heart will go on'\n",
    "resp = requests.get('http://api.musixmatch.com/ws/1.1/track.search?apikey='+apikey+'&q_track='+trackname+'&page_size=1')\n",
    "\n",
    "#jsonOutput = resp.json()\n",
    "\n",
    "data = json.loads(resp.text)\n",
    "\n",
    "track_list = data['message']['body']['track_list'] #[0]['track']['track_id']\n",
    "\n",
    "for ele in track_list:\n",
    "    track_id = ele['track']['track_id']\n",
    "    \n",
    "resp2 = requests.get('http://api.musixmatch.com/ws/1.1/track.lyrics.get?apikey='+apikey+'&track_id='+str(track_id)).json()\n",
    "lyrics = resp2['message']['body']['lyrics']['lyrics_body']\n",
    "\n",
    "lines = lyrics.splitlines()\n",
    "# lines\n",
    "lyrics"
   ]
  },
  {
   "cell_type": "code",
   "execution_count": 55,
   "metadata": {
    "collapsed": false
   },
   "outputs": [
    {
     "data": {
      "text/plain": [
       "[[u'Well', u'now', u'we', u'call', u'this', u'the', u'act', u'of', u'mating'],\n",
       " [u'But',\n",
       "  u'there',\n",
       "  u'are',\n",
       "  u'several',\n",
       "  u'other',\n",
       "  u'very',\n",
       "  u'important',\n",
       "  u'differences'],\n",
       " [u'Between',\n",
       "  u'human',\n",
       "  u'beings',\n",
       "  u'and',\n",
       "  u'animals',\n",
       "  u'that',\n",
       "  u'you',\n",
       "  u'should',\n",
       "  u'know',\n",
       "  u'about'],\n",
       " [u'I', u\"'d\", u'appreciate', u'your', u'input'],\n",
       " [],\n",
       " [u'Sweat',\n",
       "  u'baby',\n",
       "  u'sweat',\n",
       "  u'baby',\n",
       "  u'sex',\n",
       "  u'is',\n",
       "  u'a',\n",
       "  u'Texas',\n",
       "  u'drought'],\n",
       " [u'Me',\n",
       "  u'and',\n",
       "  u'you',\n",
       "  u'do',\n",
       "  u'the',\n",
       "  u'kind',\n",
       "  u'of',\n",
       "  u'stuff',\n",
       "  u'that',\n",
       "  u'only',\n",
       "  u'Prince',\n",
       "  u'would',\n",
       "  u'sing',\n",
       "  u'about'],\n",
       " [u'So',\n",
       "  u'put',\n",
       "  u'your',\n",
       "  u'hands',\n",
       "  u'down',\n",
       "  u'my',\n",
       "  u'pants',\n",
       "  u'and',\n",
       "  u'I',\n",
       "  u\"'ll\",\n",
       "  u'bet',\n",
       "  u'you',\n",
       "  u\"'ll\",\n",
       "  u'feel',\n",
       "  u'nuts'],\n",
       " [u'Yes',\n",
       "  u'I',\n",
       "  u\"'m\",\n",
       "  u'Siskel',\n",
       "  u'yes',\n",
       "  u'I',\n",
       "  u\"'m\",\n",
       "  u'Hebert',\n",
       "  u'and',\n",
       "  u'you',\n",
       "  u\"'re\",\n",
       "  u'getting',\n",
       "  u'two',\n",
       "  u'thumbs',\n",
       "  u'up'],\n",
       " [],\n",
       " [u'You', u\"'ve\", u'had', u'enough', u'of', u'two', u'hand', u'touch'],\n",
       " [u'You', u'want', u'it', u'rough', u'you', u\"'re\", u'out', u'of', u'bounds'],\n",
       " [u'I', u'want', u'you', u'smothered', u'want', u'you', u'covered'],\n",
       " [u'Like', u'my', u'waffle', u'house', u'hash', u'browns'],\n",
       " [],\n",
       " [u'Come', u'quicker', u'than', u'Fed-Ex', u'never', u'reach', u'an', u'apex'],\n",
       " [u'Just', u'like', u'Coca', u'Cola', u'stock'],\n",
       " [u'You',\n",
       "  u'are',\n",
       "  u'inclined',\n",
       "  u'to',\n",
       "  u'make',\n",
       "  u'me',\n",
       "  u'rise',\n",
       "  u'an',\n",
       "  u'hour',\n",
       "  u'early'],\n",
       " [u'Just', u'like', u'daylight', u'savings', u'time'],\n",
       " [],\n",
       " [u'...'],\n",
       " [],\n",
       " [u'*******',\n",
       "  u'This',\n",
       "  u'Lyrics',\n",
       "  u'is',\n",
       "  u'NOT',\n",
       "  u'for',\n",
       "  u'Commercial',\n",
       "  u'use',\n",
       "  u'*******']]"
      ]
     },
     "execution_count": 55,
     "metadata": {},
     "output_type": "execute_result"
    }
   ],
   "source": [
    "#print lyrics\n",
    "#raw = nltk.clean_html(lyrics)\n",
    "#print raw\n",
    "\n",
    "#text = nltk.wordpunct_tokenize(lyrics)\n",
    "#nltk.pos_tag(text)\n",
    "\n",
    "#entries = nltk.corpus.cmudict.entries()\n",
    "#foo = entries[500]\n",
    "import nltk\n",
    "from nltk.corpus import cmudict\n",
    "from nltk.tokenize import word_tokenize, wordpunct_tokenize, sent_tokenize\n",
    "\n",
    "\n",
    "\n",
    "tokens = [word_tokenize(s) for s in lines]\n",
    "#tokens\n",
    "punct = set(['.', ',', '!', ':', ';'])\n",
    "filtered = [ [w for w in sentence if w not in punct ] for sentence in tokens]\n",
    "#last = [ sentence[len(sentence) - 1] for sentence in filtered]\n",
    "filtered"
   ]
  },
  {
   "cell_type": "code",
   "execution_count": 45,
   "metadata": {
    "collapsed": false
   },
   "outputs": [
    {
     "data": {
      "text/plain": [
       "{u'knuts', u\"nut's\", u'nuts'}"
      ]
     },
     "execution_count": 45,
     "metadata": {},
     "output_type": "execute_result"
    }
   ],
   "source": [
    "def rhyme(inp, level):\n",
    "     entries = nltk.corpus.cmudict.entries()\n",
    "     syllables = [(word, syl) for word, syl in entries if word == inp]\n",
    "     rhymes = []\n",
    "     for (word, syllable) in syllables:\n",
    "             rhymes += [word for word, pron in entries if pron[-level:] == syllable[-level:]]\n",
    "     return set(rhymes)\n",
    "\n",
    "rhyme('nuts',500)"
   ]
  },
  {
   "cell_type": "code",
   "execution_count": 118,
   "metadata": {
    "collapsed": false
   },
   "outputs": [
    {
     "name": "stdout",
     "output_type": "stream",
     "text": [
      "{\"message\":{\"header\":{\"status_code\":200,\"execute_time\":0.012269973754883,\"available\":349},\"body\":{\"track_list\":[{\"track\":{\"track_id\":13993901,\"track_mbid\":\"7df27ea2-b5f2-4dab-85cd-fd193accafdd\",\"track_isrc\":\"USIR19902530\",\"track_spotify_id\":\"2TBMK0ADywam6eVOXWL9Or\",\"track_soundcloud_id\":0,\"track_xboxmusic_id\":\"music.5EFA3907-0100-11DB-89CA-0019B92A3933\",\"track_name\":\"The Bad Touch\",\"track_name_translation_list\":[],\"track_rating\":92,\"track_length\":263,\"commontrack_id\":227001,\"instrumental\":0,\"explicit\":0,\"has_lyrics\":1,\"has_subtitles\":1,\"num_favourite\":821,\"lyrics_id\":14730275,\"subtitle_id\":11307943,\"album_id\":10506359,\"album_name\":\"Hooray for Boobies\",\"artist_id\":706,\"artist_mbid\":\"b2dbfc09-b332-408b-a235-1850e41971c5\",\"artist_name\":\"Bloodhound Gang\",\"album_coverart_100x100\":\"http:\\/\\/s.mxmcdn.net\\/images-storage\\/albums\\/1\\/3\\/7\\/0\\/2\\/9\\/11920731.jpg\",\"album_coverart_350x350\":\"http:\\/\\/s.mxmcdn.net\\/images-storage\\/albums\\/1\\/3\\/7\\/0\\/2\\/9\\/11920731_350_350.jpg\",\"album_coverart_500x500\":\"http:\\/\\/s.mxmcdn.net\\/images-storage\\/albums\\/1\\/3\\/7\\/0\\/2\\/9\\/11920731_500_500.jpg\",\"album_coverart_800x800\":\"http:\\/\\/s.mxmcdn.net\\/images-storage\\/albums\\/1\\/3\\/7\\/0\\/2\\/9\\/11920731_800_800.jpg\",\"track_share_url\":\"https:\\/\\/www.musixmatch.com\\/lyrics\\/Bloodhound-Gang\\/The-Bad-Touch\",\"track_edit_url\":\"https:\\/\\/www.musixmatch.com\\/lyrics\\/Bloodhound-Gang\\/The-Bad-Touch\\/edit?utm_source=application&utm_campaign=api&utm_medium=\",\"commontrack_vanity_id\":\"Bloodhound-Gang\\/The-Bad-Touch\",\"restricted\":0,\"first_release_date\":\"1999-01-01T00:00:00Z\",\"updated_time\":\"2016-04-01T09:14:34Z\",\"primary_genres\":{\"music_genre_list\":[{\"music_genre\":{\"music_genre_id\":20,\"music_genre_parent_id\":34,\"music_genre_name\":\"Alternative\",\"music_genre_name_extended\":\"Alternative\",\"music_genre_vanity\":\"Alternative\"}},{\"music_genre\":{\"music_genre_id\":21,\"music_genre_parent_id\":34,\"music_genre_name\":\"Rock\",\"music_genre_name_extended\":\"Rock\",\"music_genre_vanity\":\"Rock\"}}]},\"secondary_genres\":{\"music_genre_list\":[]}}}]}}}\n",
      "{u'message': {u'body': {u'track_list': [{u'track': {u'commontrack_vanity_id': u'Bloodhound-Gang/The-Bad-Touch', u'album_coverart_350x350': u'http://s.mxmcdn.net/images-storage/albums/1/3/7/0/2/9/11920731_350_350.jpg', u'has_subtitles': 1, u'track_edit_url': u'https://www.musixmatch.com/lyrics/Bloodhound-Gang/The-Bad-Touch/edit?utm_source=application&utm_campaign=api&utm_medium=', u'commontrack_id': 227001, u'num_favourite': 821, u'artist_mbid': u'b2dbfc09-b332-408b-a235-1850e41971c5', u'primary_genres': {u'music_genre_list': [{u'music_genre': {u'music_genre_parent_id': 34, u'music_genre_name_extended': u'Alternative', u'music_genre_vanity': u'Alternative', u'music_genre_id': 20, u'music_genre_name': u'Alternative'}}, {u'music_genre': {u'music_genre_parent_id': 34, u'music_genre_name_extended': u'Rock', u'music_genre_vanity': u'Rock', u'music_genre_id': 21, u'music_genre_name': u'Rock'}}]}, u'album_coverart_800x800': u'http://s.mxmcdn.net/images-storage/albums/1/3/7/0/2/9/11920731_800_800.jpg', u'track_spotify_id': u'2TBMK0ADywam6eVOXWL9Or', u'secondary_genres': {u'music_genre_list': []}, u'restricted': 0, u'album_id': 10506359, u'has_lyrics': 1, u'track_id': 13993901, u'track_name': u'The Bad Touch', u'track_xboxmusic_id': u'music.5EFA3907-0100-11DB-89CA-0019B92A3933', u'track_name_translation_list': [], u'artist_name': u'Bloodhound Gang', u'track_isrc': u'USIR19902530', u'instrumental': 0, u'track_rating': 92, u'album_name': u'Hooray for Boobies', u'artist_id': 706, u'track_length': 263, u'album_coverart_500x500': u'http://s.mxmcdn.net/images-storage/albums/1/3/7/0/2/9/11920731_500_500.jpg', u'track_mbid': u'7df27ea2-b5f2-4dab-85cd-fd193accafdd', u'subtitle_id': 11307943, u'album_coverart_100x100': u'http://s.mxmcdn.net/images-storage/albums/1/3/7/0/2/9/11920731.jpg', u'explicit': 0, u'updated_time': u'2016-04-01T09:14:34Z', u'track_share_url': u'https://www.musixmatch.com/lyrics/Bloodhound-Gang/The-Bad-Touch', u'lyrics_id': 14730275, u'first_release_date': u'1999-01-01T00:00:00Z', u'track_soundcloud_id': 0}}]}, u'header': {u'available': 349, u'status_code': 200, u'execute_time': 0.012269973754883}}}\n"
     ]
    }
   ],
   "source": []
  },
  {
   "cell_type": "code",
   "execution_count": null,
   "metadata": {
    "collapsed": true
   },
   "outputs": [],
   "source": []
  }
 ],
 "metadata": {
  "kernelspec": {
   "display_name": "Python 2",
   "language": "python",
   "name": "python2"
  },
  "language_info": {
   "codemirror_mode": {
    "name": "ipython",
    "version": 2
   },
   "file_extension": ".py",
   "mimetype": "text/x-python",
   "name": "python",
   "nbconvert_exporter": "python",
   "pygments_lexer": "ipython2",
   "version": "2.7.11"
  }
 },
 "nbformat": 4,
 "nbformat_minor": 0
}
