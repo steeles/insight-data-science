{
 "cells": [
  {
   "cell_type": "code",
   "execution_count": 1,
   "metadata": {
    "collapsed": false
   },
   "outputs": [
    {
     "name": "stdout",
     "output_type": "stream",
     "text": [
      "https://www.musixmatch.com/lyrics/O-T-Genasis-feat-Young-Dolph/Cut-It\n",
      "found lyrics on musixmatch!\n"
     ]
    },
    {
     "data": {
      "text/plain": [
       "(u\"Yeaah\\nYeah\\nCut it, cut it, cut it, cut it\\nCut it, cut it, cut it, cut it\\nThem bricks is way too hot, you need to cut it\\nYour price is way too high, you need to cut it\\nCut it, cut it, cut it, cut it\\nCut it, cut it, cut it, cut it\\n\\nThem bricks is way too hot, you need to cut it\\nYour price is way too high, you need to cut it\\n\\nRunning through bands on the regular\\nHittin' my plug on the celly, yeah\\nTell my ex bitch that I'm sorry\\nImma skate off in the 'Rari\\nKeep 36 by my side\\nImma go bake me a pie\\nKeep 45 on my side\\nFuck with my niggas, you die\\nAll of my niggas say blood\\nAll of my niggas say cuz\\nOT, I found me a plug\\nI got it straight out the mud\\nKeep it a hundred, no budge\\nI fell in love with the drugs\\nBustin' it down in the tub\\nPay me my money in dubs\\nWater whippin'\\nLookin' like I'm fishin'\\nBaseball in kitchen\\nWith my arm I'm pitchin'\\n\\nRolie on, it's glistenin'\\n\\nAnd my darling, kissin'\\nNiggas steady trippin'\\nSo I'm steady grippin'\\nDirty money on me\\nGot a scale up on me\\nI don't fuck with phony\\n\\n'Bout to sell a pony\\nAll these niggas on me\\n\\nAll these bitches on me\\nSay my price is good\\nMotherfucker show me\\n\\nCut it, cut it, cut it, cut it\\nCut it, cut it, cut it, cut it\\nThem bricks is way too hot, you need to cut it\\nYour price is way too high, you need to cut it\\nCut it, cut it, cut it, cut it\\nCut it, cut it, cut it, cut it\\nThem bricks is way too hot, you need to cut it\\nYour price is way too high, you need to cut it\\n\\nWent and bought a 911 with my trap money\\n\\nA million up but still ain't never touch my rap money\\nI'm out in LA fuckin' with that boy OT\\nFlew to LA, got a plug on that OG\\n\\nYou know I've been gettin' money if you know me\\nWhen I first met my plug, I tote my pistol, hundred Gs\\nI ain't comin' to get it unless you got a hundred piece\\nI don't want it, fuck it, your price, you need to cut it\\nYour ice, you need to tuck it, she fuck with me, she lucky\\nA half a million, all 20s in that Gucci luggage\\nLet's skip the small talk, it's time to talk numbers\\nYoung nigga playin' with commas, might go get a Lamb for the summer\\nI've been outchea in these streets all my life hustlin'\\nMy nigga beefin' then I'm beefin', wrong or right I'm bustin'\\nMy traphouse, I love it\\nPut some Forces on my old school and I had to cut it\\nBut should I put a roof in?\\nCut it, cut it, cut it, cut it\\nCut it, cut it, cut it, cut it\\nThem bricks is way too hot, you need to cut it\\nYour price is way too high, you need to cut it\\nCut it, cut it, cut it, cut it\\nCut it, cut it, cut it, cut it\\nThem bricks is way too hot, you need to cut it\\nYour price is way too high, you need to cut it\",\n",
       " 'O.T. Genasis Featuring Young Dolph: Cut It',\n",
       " 'https://www.musixmatch.com/lyrics/O-T-Genasis-feat-Young-Dolph/Cut-It')"
      ]
     },
     "execution_count": 1,
     "metadata": {},
     "output_type": "execute_result"
    }
   ],
   "source": [
    "%run get_song_lyrics.py\n",
    "song_title = 'Cut It'\n",
    "artist = 'O.T. Genasis Featuring Young Dolph'\n",
    "lyrics = get_song_lyrics(song_title,artist)\n",
    "#print lyrics[2]\n",
    "lyrics\n",
    "\n"
   ]
  },
  {
   "cell_type": "code",
   "execution_count": 39,
   "metadata": {
    "collapsed": false
   },
   "outputs": [
    {
     "data": {
      "text/plain": [
       "81"
      ]
     },
     "execution_count": 39,
     "metadata": {},
     "output_type": "execute_result"
    }
   ],
   "source": [
    "import pandas as pd\n",
    "import numpy as np\n",
    "\n",
    "lyrics_BB = pd.read_csv('lyrics_and_billboard.csv',encoding='utf-8',header=0,parse_dates='date')\n",
    "\n",
    "\n",
    "# how many scrapes did i mess up? P!nk, etc\n",
    "lyrics_BB[lyrics_BB['lyrics'].isnull()].drop_duplicates(subset='title',keep='first').shape[0]\n",
    "\n",
    "# get rid of the duplicate entries\n",
    "cleaned_lyrics_BB = lyrics_BB.groupby('title',group_keys=False).apply(lambda x: \n",
    "            x.ix[x.peakPos.idxmin()]).drop_duplicates(subset=['title','artist'])\n",
    "# i have no idea why this column is here\n",
    "cleaned_lyrics_BB.drop('Unnamed: 0', axis=1,inplace=True)\n",
    "#for col in cleaned_lyrics_BB:\n",
    "    #print col, cleaned_lyrics_BB[col].dtype\n",
    "\n",
    "# drop the na\n",
    "cleaned_lyrics_BB.dropna(subset=['lyrics'],inplace=True)\n",
    "\n",
    "cleaned_lyrics_BB_tot = cleaned_lyrics_BB\n",
    "\n",
    "msk = np.random.rand(len(cleaned_lyrics_BB_tot)) < 0.8\n",
    "\n",
    "train = cleaned_lyrics_BB_tot[msk]\n",
    "\n",
    "cleaned_lyrics_BB = cleaned_lyrics_BB_tot[~msk]\n",
    "\n",
    "\n",
    "# \n",
    "lyrics = train['lyrics']\n",
    "\n",
    "#lyrics_BB.loc[lyrics_BB['title'].isin(['Never Forget You'])]\n",
    "#lyrics_BB\n",
    "testL = lyrics[0]\n",
    "#print testL\n",
    "no_dumb_punct = re.sub(\"[,\\\\.]\", \" \", testL) \n",
    "#print no_dumb_punct\n",
    "\n",
    "blanks = no_dumb_punct.replace('[?]',\"\")\n",
    "qs = blanks.replace(\"?\",\" ? \")\n",
    "exps = qs.replace(\"!\",\" ! \")\n",
    "\n",
    "#cleaned_lyrics_BB[\"title\"][0]\n",
    "words = exps.lower().split()\n",
    "from nltk.corpus import stopwords\n",
    "#print words\n",
    "#print stopwords\n",
    "meaningful_words = [w for w in words if not w in stopwords.words(\"english\")]\n",
    "#print meaningful_words\n",
    "#print \" \".join(meaningful_words)\n",
    "%run song_to_words.py\n",
    "\n",
    "lyrics.size\n",
    "\n",
    "\n",
    "#meaningful_words\n",
    "#song_to_words(testL)\n",
    "#from nltk.corpus import wordnet as wn\n",
    "\n",
    "#nltk.stem.WordNetLemmatizer().lemmatize('lovin', 'v')"
   ]
  },
  {
   "cell_type": "code",
   "execution_count": 5,
   "metadata": {
    "collapsed": false
   },
   "outputs": [],
   "source": []
  },
  {
   "cell_type": "code",
   "execution_count": null,
   "metadata": {
    "collapsed": true
   },
   "outputs": [],
   "source": [
    "def clean_words(words):"
   ]
  },
  {
   "cell_type": "code",
   "execution_count": 40,
   "metadata": {
    "collapsed": false
   },
   "outputs": [],
   "source": [
    "%run song_to_words.py\n",
    "\n",
    "clean_songs = []\n",
    "for ind in xrange(0,lyrics.size):\n",
    "    \n",
    "    clean_songs.append(song_to_words(lyrics[ind]))\n",
    "    \n",
    "    "
   ]
  },
  {
   "cell_type": "code",
   "execution_count": 41,
   "metadata": {
    "collapsed": false
   },
   "outputs": [],
   "source": [
    "%run words_to_bag.py\n",
    "# train this up!\n",
    "[vocab, word_bag, vectorizer] = words_to_bag(clean_songs) \n"
   ]
  },
  {
   "cell_type": "code",
   "execution_count": 42,
   "metadata": {
    "collapsed": false
   },
   "outputs": [
    {
     "data": {
      "text/plain": [
       "Index([u'7 Years', u'Cake By The Ocean', u'Can't Stop The Feeling!',\n",
       "       u'Cheap Thrills', u'Dangerous Woman', u'Feel No Ways', u'Fix',\n",
       "       u'Hasta El Amanecer', u'I Took A Pill In Ibiza', u'Inside Out',\n",
       "       u'Into You', u'Kiss It Better', u'La La Land', u'Light It Up',\n",
       "       u'Middle', u'Never Forget You', u'No Problem', u'Pop Style', u'Sex',\n",
       "       u'Somewhere On A Beach', u'The Sound Of Silence'],\n",
       "      dtype='object', name=u'title')"
      ]
     },
     "execution_count": 42,
     "metadata": {},
     "output_type": "execute_result"
    }
   ],
   "source": [
    "cleaned_lyrics_BB.index\n",
    "\n"
   ]
  },
  {
   "cell_type": "code",
   "execution_count": 114,
   "metadata": {
    "collapsed": false
   },
   "outputs": [
    {
     "name": "stderr",
     "output_type": "stream",
     "text": [
      "/Users/steeles/anaconda/envs/my_projects_env/lib/python2.7/site-packages/ipykernel/__main__.py:24: FutureWarning: sort(columns=....) is deprecated, use sort_values(by=.....)\n"
     ]
    },
    {
     "data": {
      "text/plain": [
       "<matplotlib.axes._subplots.AxesSubplot at 0x1170fad10>"
      ]
     },
     "execution_count": 114,
     "metadata": {},
     "output_type": "execute_result"
    },
    {
     "data": {
      "image/png": "[encoded data removed]",
      "text/plain": [
       "<matplotlib.figure.Figure at 0x11cf72950>"
      ]
     },
     "metadata": {},
     "output_type": "display_data"
    }
   ],
   "source": [
    "\n",
    "%matplotlib inline\n",
    "import numpy as np\n",
    "import matplotlib.pyplot as plt\n",
    "\n",
    "import numpy as np\n",
    "import pandas as pd\n",
    "\n",
    "matplotlib.style.use('ggplot')\n",
    "# %matplotib notebook\n",
    "# Sum up the counts of each vocabulary word\n",
    "dist = np.sum(word_bag, axis=0)\n",
    "df = pd.DataFrame(word_bag,columns=vocab,index=train.index)\n",
    "df.index = train.index\n",
    "# For each, print the vocabulary word and the number of times it \n",
    "# appears in the training set\n",
    "#vocab\n",
    "\n",
    "freqDf = pd.DataFrame(zip(vocab,dist),columns=['vocab','dist'])\n",
    "# for tag, count in zip(vocab, dist):\n",
    "#      print count, tag\n",
    "# df\n",
    "\n",
    "tmp = freqDf.sort(columns='dist',ascending=False)\n",
    "#h=plt.figure()\n",
    "#tmp.head(20)\n",
    "foo = tmp[:20]\n",
    "foo.plot(x=\"vocab\",y=\"dist\",kind=\"bar\",legend=False,rot=45)\n",
    "# foo.plot?\n",
    "#hist()\n"
   ]
  },
  {
   "cell_type": "code",
   "execution_count": null,
   "metadata": {
    "collapsed": true
   },
   "outputs": [],
   "source": [
    "tmp[:20].plot.hist"
   ]
  },
  {
   "cell_type": "code",
   "execution_count": null,
   "metadata": {
    "collapsed": true
   },
   "outputs": [],
   "source": [
    "tmp[:20].plot.hist"
   ]
  },
  {
   "cell_type": "code",
   "execution_count": null,
   "metadata": {
    "collapsed": true
   },
   "outputs": [],
   "source": [
    "tmp[:20].hist"
   ]
  },
  {
   "cell_type": "code",
   "execution_count": null,
   "metadata": {
    "collapsed": true
   },
   "outputs": [],
   "source": [
    "tmp[:20].hist"
   ]
  },
  {
   "cell_type": "code",
   "execution_count": null,
   "metadata": {
    "collapsed": true
   },
   "outputs": [],
   "source": []
  },
  {
   "cell_type": "code",
   "execution_count": 123,
   "metadata": {
    "collapsed": true
   },
   "outputs": [],
   "source": [
    "#vectorizer.vocabulary\n",
    "\n",
    "\n"
   ]
  },
  {
   "cell_type": "code",
   "execution_count": 44,
   "metadata": {
    "collapsed": false
   },
   "outputs": [],
   "source": [
    "df = pd.DataFrame(zip(vocab,word_bag))\n",
    "\n",
    "#df.iloc[]\n",
    "\n"
   ]
  },
  {
   "cell_type": "code",
   "execution_count": 45,
   "metadata": {
    "collapsed": false
   },
   "outputs": [],
   "source": [
    "from sklearn.ensemble import RandomForestClassifier\n",
    "\n",
    "# Initialize a Random Forest classifier with 100 trees\n",
    "forest = RandomForestClassifier(n_estimators = 100) \n",
    "\n",
    "# Fit the forest to the training set, using the bag of words as \n",
    "# features and the sentiment labels as the response variable\n",
    "#\n",
    "# This may take a few minutes to run\n",
    "forest = forest.fit( word_bag, train[\"chart_name\"] )\n",
    "\n"
   ]
  },
  {
   "cell_type": "code",
   "execution_count": 134,
   "metadata": {
    "collapsed": false
   },
   "outputs": [],
   "source": [
    "#sum(cleaned_lyrics_BB['chart_name']=='dance-electronic-songs')"
   ]
  },
  {
   "cell_type": "code",
   "execution_count": 46,
   "metadata": {
    "collapsed": false
   },
   "outputs": [],
   "source": [
    "clean_test_songs = [] \n",
    "\n",
    "for i in xrange(0,len(cleaned_lyrics_BB)):\n",
    "    \n",
    "    clean_song = song_to_words( cleaned_lyrics_BB[\"lyrics\"][i] )\n",
    "    clean_test_songs.append( clean_song )\n",
    "\n",
    "# Get a bag of words for the test set, and convert to a numpy array\n",
    "test_data_features = vectorizer.transform(clean_test_songs)\n",
    "test_data_features = test_data_features.toarray()\n",
    "\n",
    "\n",
    "result = forest.predict(test_data_features)\n",
    "\n"
   ]
  },
  {
   "cell_type": "code",
   "execution_count": 47,
   "metadata": {
    "collapsed": false
   },
   "outputs": [
    {
     "data": {
      "text/plain": [
       "(21, 2598)"
      ]
     },
     "execution_count": 47,
     "metadata": {},
     "output_type": "execute_result"
    }
   ],
   "source": [
    "#len(clean_test_songs)\n",
    "test_data_features.shape\n",
    "#type(clean_test_songs)\n"
   ]
  },
  {
   "cell_type": "code",
   "execution_count": 48,
   "metadata": {
    "collapsed": false
   },
   "outputs": [],
   "source": [
    "output = pd.DataFrame( data={\"realChart\":cleaned_lyrics_BB[\"chart_name\"], \"prediction\":result} )\n",
    "\n",
    "\n"
   ]
  },
  {
   "cell_type": "code",
   "execution_count": 78,
   "metadata": {
    "collapsed": false
   },
   "outputs": [
    {
     "data": {
      "text/html": [
       "<div>\n",
       "<table border=\"1\" class=\"dataframe\">\n",
       "  <thead>\n",
       "    <tr style=\"text-align: right;\">\n",
       "      <th></th>\n",
       "      <th>prediction</th>\n",
       "      <th>realChart</th>\n",
       "    </tr>\n",
       "    <tr>\n",
       "      <th>title</th>\n",
       "      <th></th>\n",
       "      <th></th>\n",
       "    </tr>\n",
       "  </thead>\n",
       "  <tbody>\n",
       "    <tr>\n",
       "      <th>7 Years</th>\n",
       "      <td>hot-100</td>\n",
       "      <td>hot-100</td>\n",
       "    </tr>\n",
       "    <tr>\n",
       "      <th>American Country Love Song</th>\n",
       "      <td>hot-100</td>\n",
       "      <td>hot-100</td>\n",
       "    </tr>\n",
       "    <tr>\n",
       "      <th>Came Here To Forget</th>\n",
       "      <td>hot-100</td>\n",
       "      <td>hot-100</td>\n",
       "    </tr>\n",
       "    <tr>\n",
       "      <th>Candyman</th>\n",
       "      <td>hot-100</td>\n",
       "      <td>dance-electronic-songs</td>\n",
       "    </tr>\n",
       "    <tr>\n",
       "      <th>Fix</th>\n",
       "      <td>hot-100</td>\n",
       "      <td>hot-100</td>\n",
       "    </tr>\n",
       "    <tr>\n",
       "      <th>Kiss It Better</th>\n",
       "      <td>hot-100</td>\n",
       "      <td>hot-100</td>\n",
       "    </tr>\n",
       "    <tr>\n",
       "      <th>Me Too</th>\n",
       "      <td>hot-100</td>\n",
       "      <td>hot-100</td>\n",
       "    </tr>\n",
       "    <tr>\n",
       "      <th>One Dance</th>\n",
       "      <td>hot-100</td>\n",
       "      <td>hot-100</td>\n",
       "    </tr>\n",
       "    <tr>\n",
       "      <th>Piece By Piece</th>\n",
       "      <td>hot-100</td>\n",
       "      <td>hot-100</td>\n",
       "    </tr>\n",
       "    <tr>\n",
       "      <th>Really Really</th>\n",
       "      <td>hot-100</td>\n",
       "      <td>hot-100</td>\n",
       "    </tr>\n",
       "    <tr>\n",
       "      <th>Redemption</th>\n",
       "      <td>hot-100</td>\n",
       "      <td>hot-100</td>\n",
       "    </tr>\n",
       "    <tr>\n",
       "      <th>Running Out</th>\n",
       "      <td>hot-100</td>\n",
       "      <td>dance-electronic-songs</td>\n",
       "    </tr>\n",
       "    <tr>\n",
       "      <th>Sex</th>\n",
       "      <td>hot-100</td>\n",
       "      <td>dance-electronic-songs</td>\n",
       "    </tr>\n",
       "    <tr>\n",
       "      <th>Snapback</th>\n",
       "      <td>hot-100</td>\n",
       "      <td>hot-100</td>\n",
       "    </tr>\n",
       "    <tr>\n",
       "      <th>Somewhere On A Beach</th>\n",
       "      <td>hot-100</td>\n",
       "      <td>hot-100</td>\n",
       "    </tr>\n",
       "    <tr>\n",
       "      <th>Still Here</th>\n",
       "      <td>hot-100</td>\n",
       "      <td>hot-100</td>\n",
       "    </tr>\n",
       "    <tr>\n",
       "      <th>U With Me?</th>\n",
       "      <td>hot-100</td>\n",
       "      <td>hot-100</td>\n",
       "    </tr>\n",
       "    <tr>\n",
       "      <th>Wake Up</th>\n",
       "      <td>hot-100</td>\n",
       "      <td>hot-100</td>\n",
       "    </tr>\n",
       "  </tbody>\n",
       "</table>\n",
       "</div>"
      ],
      "text/plain": [
       "                           prediction               realChart\n",
       "title                                                        \n",
       "7 Years                       hot-100                 hot-100\n",
       "American Country Love Song    hot-100                 hot-100\n",
       "Came Here To Forget           hot-100                 hot-100\n",
       "Candyman                      hot-100  dance-electronic-songs\n",
       "Fix                           hot-100                 hot-100\n",
       "Kiss It Better                hot-100                 hot-100\n",
       "Me Too                        hot-100                 hot-100\n",
       "One Dance                     hot-100                 hot-100\n",
       "Piece By Piece                hot-100                 hot-100\n",
       "Really Really                 hot-100                 hot-100\n",
       "Redemption                    hot-100                 hot-100\n",
       "Running Out                   hot-100  dance-electronic-songs\n",
       "Sex                           hot-100  dance-electronic-songs\n",
       "Snapback                      hot-100                 hot-100\n",
       "Somewhere On A Beach          hot-100                 hot-100\n",
       "Still Here                    hot-100                 hot-100\n",
       "U With Me?                    hot-100                 hot-100\n",
       "Wake Up                       hot-100                 hot-100"
      ]
     },
     "execution_count": 78,
     "metadata": {},
     "output_type": "execute_result"
    }
   ],
   "source": [
    "\n",
    "\n",
    "\n",
    "output"
   ]
  },
  {
   "cell_type": "code",
   "execution_count": 49,
   "metadata": {
    "collapsed": false
   },
   "outputs": [
    {
     "data": {
      "text/html": [
       "<div>\n",
       "<table border=\"1\" class=\"dataframe\">\n",
       "  <thead>\n",
       "    <tr style=\"text-align: right;\">\n",
       "      <th></th>\n",
       "      <th>prediction</th>\n",
       "      <th>realChart</th>\n",
       "    </tr>\n",
       "    <tr>\n",
       "      <th>title</th>\n",
       "      <th></th>\n",
       "      <th></th>\n",
       "    </tr>\n",
       "  </thead>\n",
       "  <tbody>\n",
       "    <tr>\n",
       "      <th>2 Phones</th>\n",
       "      <td>hot-100</td>\n",
       "      <td>hot-100</td>\n",
       "    </tr>\n",
       "    <tr>\n",
       "      <th>9</th>\n",
       "      <td>hot-100</td>\n",
       "      <td>hot-100</td>\n",
       "    </tr>\n",
       "    <tr>\n",
       "      <th>American Country Love Song</th>\n",
       "      <td>hot-100</td>\n",
       "      <td>hot-100</td>\n",
       "    </tr>\n",
       "    <tr>\n",
       "      <th>Body</th>\n",
       "      <td>hot-100</td>\n",
       "      <td>hot-100</td>\n",
       "    </tr>\n",
       "    <tr>\n",
       "      <th>Came Here To Forget</th>\n",
       "      <td>hot-100</td>\n",
       "      <td>hot-100</td>\n",
       "    </tr>\n",
       "    <tr>\n",
       "      <th>Candyman</th>\n",
       "      <td>dance-electronic-songs</td>\n",
       "      <td>dance-electronic-songs</td>\n",
       "    </tr>\n",
       "    <tr>\n",
       "      <th>Carry Me</th>\n",
       "      <td>dance-electronic-songs</td>\n",
       "      <td>dance-electronic-songs</td>\n",
       "    </tr>\n",
       "    <tr>\n",
       "      <th>Childs Play</th>\n",
       "      <td>hot-100</td>\n",
       "      <td>hot-100</td>\n",
       "    </tr>\n",
       "    <tr>\n",
       "      <th>Church Bells</th>\n",
       "      <td>hot-100</td>\n",
       "      <td>hot-100</td>\n",
       "    </tr>\n",
       "    <tr>\n",
       "      <th>Close</th>\n",
       "      <td>hot-100</td>\n",
       "      <td>hot-100</td>\n",
       "    </tr>\n",
       "    <tr>\n",
       "      <th>Controlla</th>\n",
       "      <td>hot-100</td>\n",
       "      <td>hot-100</td>\n",
       "    </tr>\n",
       "    <tr>\n",
       "      <th>Different For Girls</th>\n",
       "      <td>hot-100</td>\n",
       "      <td>hot-100</td>\n",
       "    </tr>\n",
       "    <tr>\n",
       "      <th>Don't Let Me Down</th>\n",
       "      <td>dance-electronic-songs</td>\n",
       "      <td>dance-electronic-songs</td>\n",
       "    </tr>\n",
       "    <tr>\n",
       "      <th>Don't Mind</th>\n",
       "      <td>hot-100</td>\n",
       "      <td>hot-100</td>\n",
       "    </tr>\n",
       "    <tr>\n",
       "      <th>Exchange</th>\n",
       "      <td>hot-100</td>\n",
       "      <td>hot-100</td>\n",
       "    </tr>\n",
       "    <tr>\n",
       "      <th>Fast Car</th>\n",
       "      <td>dance-electronic-songs</td>\n",
       "      <td>dance-electronic-songs</td>\n",
       "    </tr>\n",
       "    <tr>\n",
       "      <th>Formation</th>\n",
       "      <td>hot-100</td>\n",
       "      <td>hot-100</td>\n",
       "    </tr>\n",
       "    <tr>\n",
       "      <th>Gold</th>\n",
       "      <td>hot-100</td>\n",
       "      <td>hot-100</td>\n",
       "    </tr>\n",
       "    <tr>\n",
       "      <th>Grammys</th>\n",
       "      <td>hot-100</td>\n",
       "      <td>hot-100</td>\n",
       "    </tr>\n",
       "    <tr>\n",
       "      <th>Head Over Boots</th>\n",
       "      <td>hot-100</td>\n",
       "      <td>hot-100</td>\n",
       "    </tr>\n",
       "    <tr>\n",
       "      <th>Hold Up</th>\n",
       "      <td>hot-100</td>\n",
       "      <td>hot-100</td>\n",
       "    </tr>\n",
       "    <tr>\n",
       "      <th>Humble And Kind</th>\n",
       "      <td>hot-100</td>\n",
       "      <td>hot-100</td>\n",
       "    </tr>\n",
       "    <tr>\n",
       "      <th>Hype</th>\n",
       "      <td>hot-100</td>\n",
       "      <td>hot-100</td>\n",
       "    </tr>\n",
       "    <tr>\n",
       "      <th>I Hate U I Love U</th>\n",
       "      <td>hot-100</td>\n",
       "      <td>hot-100</td>\n",
       "    </tr>\n",
       "    <tr>\n",
       "      <th>I Wanna Know</th>\n",
       "      <td>dance-electronic-songs</td>\n",
       "      <td>dance-electronic-songs</td>\n",
       "    </tr>\n",
       "    <tr>\n",
       "      <th>If It Ain't Love</th>\n",
       "      <td>hot-100</td>\n",
       "      <td>hot-100</td>\n",
       "    </tr>\n",
       "    <tr>\n",
       "      <th>Is It Love</th>\n",
       "      <td>dance-electronic-songs</td>\n",
       "      <td>dance-electronic-songs</td>\n",
       "    </tr>\n",
       "    <tr>\n",
       "      <th>Kill Em With Kindness</th>\n",
       "      <td>hot-100</td>\n",
       "      <td>hot-100</td>\n",
       "    </tr>\n",
       "    <tr>\n",
       "      <th>Law</th>\n",
       "      <td>hot-100</td>\n",
       "      <td>hot-100</td>\n",
       "    </tr>\n",
       "    <tr>\n",
       "      <th>Let It Go</th>\n",
       "      <td>hot-100</td>\n",
       "      <td>hot-100</td>\n",
       "    </tr>\n",
       "    <tr>\n",
       "      <th>...</th>\n",
       "      <td>...</td>\n",
       "      <td>...</td>\n",
       "    </tr>\n",
       "    <tr>\n",
       "      <th>Panda</th>\n",
       "      <td>hot-100</td>\n",
       "      <td>hot-100</td>\n",
       "    </tr>\n",
       "    <tr>\n",
       "      <th>Peter Pan</th>\n",
       "      <td>hot-100</td>\n",
       "      <td>hot-100</td>\n",
       "    </tr>\n",
       "    <tr>\n",
       "      <th>Piece By Piece</th>\n",
       "      <td>hot-100</td>\n",
       "      <td>hot-100</td>\n",
       "    </tr>\n",
       "    <tr>\n",
       "      <th>Raging</th>\n",
       "      <td>dance-electronic-songs</td>\n",
       "      <td>dance-electronic-songs</td>\n",
       "    </tr>\n",
       "    <tr>\n",
       "      <th>Really Really</th>\n",
       "      <td>hot-100</td>\n",
       "      <td>hot-100</td>\n",
       "    </tr>\n",
       "    <tr>\n",
       "      <th>Record Year</th>\n",
       "      <td>hot-100</td>\n",
       "      <td>hot-100</td>\n",
       "    </tr>\n",
       "    <tr>\n",
       "      <th>Redemption</th>\n",
       "      <td>hot-100</td>\n",
       "      <td>hot-100</td>\n",
       "    </tr>\n",
       "    <tr>\n",
       "      <th>Ride</th>\n",
       "      <td>hot-100</td>\n",
       "      <td>hot-100</td>\n",
       "    </tr>\n",
       "    <tr>\n",
       "      <th>Roses</th>\n",
       "      <td>dance-electronic-songs</td>\n",
       "      <td>dance-electronic-songs</td>\n",
       "    </tr>\n",
       "    <tr>\n",
       "      <th>Running Out</th>\n",
       "      <td>dance-electronic-songs</td>\n",
       "      <td>dance-electronic-songs</td>\n",
       "    </tr>\n",
       "    <tr>\n",
       "      <th>Snapback</th>\n",
       "      <td>hot-100</td>\n",
       "      <td>hot-100</td>\n",
       "    </tr>\n",
       "    <tr>\n",
       "      <th>Sorry</th>\n",
       "      <td>hot-100</td>\n",
       "      <td>hot-100</td>\n",
       "    </tr>\n",
       "    <tr>\n",
       "      <th>Stay</th>\n",
       "      <td>dance-electronic-songs</td>\n",
       "      <td>dance-electronic-songs</td>\n",
       "    </tr>\n",
       "    <tr>\n",
       "      <th>Still Here</th>\n",
       "      <td>hot-100</td>\n",
       "      <td>hot-100</td>\n",
       "    </tr>\n",
       "    <tr>\n",
       "      <th>Stressed Out</th>\n",
       "      <td>hot-100</td>\n",
       "      <td>hot-100</td>\n",
       "    </tr>\n",
       "    <tr>\n",
       "      <th>T-Shirt</th>\n",
       "      <td>hot-100</td>\n",
       "      <td>hot-100</td>\n",
       "    </tr>\n",
       "    <tr>\n",
       "      <th>Takes My Body Higher</th>\n",
       "      <td>dance-electronic-songs</td>\n",
       "      <td>dance-electronic-songs</td>\n",
       "    </tr>\n",
       "    <tr>\n",
       "      <th>This Is What You Came For</th>\n",
       "      <td>dance-electronic-songs</td>\n",
       "      <td>dance-electronic-songs</td>\n",
       "    </tr>\n",
       "    <tr>\n",
       "      <th>U With Me?</th>\n",
       "      <td>hot-100</td>\n",
       "      <td>hot-100</td>\n",
       "    </tr>\n",
       "    <tr>\n",
       "      <th>Uber Everywhere</th>\n",
       "      <td>hot-100</td>\n",
       "      <td>hot-100</td>\n",
       "    </tr>\n",
       "    <tr>\n",
       "      <th>Unsteady</th>\n",
       "      <td>hot-100</td>\n",
       "      <td>hot-100</td>\n",
       "    </tr>\n",
       "    <tr>\n",
       "      <th>Wake Up</th>\n",
       "      <td>hot-100</td>\n",
       "      <td>hot-100</td>\n",
       "    </tr>\n",
       "    <tr>\n",
       "      <th>Wasted Time</th>\n",
       "      <td>hot-100</td>\n",
       "      <td>hot-100</td>\n",
       "    </tr>\n",
       "    <tr>\n",
       "      <th>Wherever I Go</th>\n",
       "      <td>hot-100</td>\n",
       "      <td>hot-100</td>\n",
       "    </tr>\n",
       "    <tr>\n",
       "      <th>Wild Things</th>\n",
       "      <td>hot-100</td>\n",
       "      <td>hot-100</td>\n",
       "    </tr>\n",
       "    <tr>\n",
       "      <th>With You</th>\n",
       "      <td>hot-100</td>\n",
       "      <td>hot-100</td>\n",
       "    </tr>\n",
       "    <tr>\n",
       "      <th>Work</th>\n",
       "      <td>hot-100</td>\n",
       "      <td>hot-100</td>\n",
       "    </tr>\n",
       "    <tr>\n",
       "      <th>Work From Home</th>\n",
       "      <td>hot-100</td>\n",
       "      <td>hot-100</td>\n",
       "    </tr>\n",
       "    <tr>\n",
       "      <th>You Don't Own Me</th>\n",
       "      <td>hot-100</td>\n",
       "      <td>hot-100</td>\n",
       "    </tr>\n",
       "    <tr>\n",
       "      <th>Youth</th>\n",
       "      <td>hot-100</td>\n",
       "      <td>hot-100</td>\n",
       "    </tr>\n",
       "  </tbody>\n",
       "</table>\n",
       "<p>81 rows × 2 columns</p>\n",
       "</div>"
      ],
      "text/plain": [
       "                                        prediction               realChart\n",
       "title                                                                     \n",
       "2 Phones                                   hot-100                 hot-100\n",
       "9                                          hot-100                 hot-100\n",
       "American Country Love Song                 hot-100                 hot-100\n",
       "Body                                       hot-100                 hot-100\n",
       "Came Here To Forget                        hot-100                 hot-100\n",
       "Candyman                    dance-electronic-songs  dance-electronic-songs\n",
       "Carry Me                    dance-electronic-songs  dance-electronic-songs\n",
       "Childs Play                                hot-100                 hot-100\n",
       "Church Bells                               hot-100                 hot-100\n",
       "Close                                      hot-100                 hot-100\n",
       "Controlla                                  hot-100                 hot-100\n",
       "Different For Girls                        hot-100                 hot-100\n",
       "Don't Let Me Down           dance-electronic-songs  dance-electronic-songs\n",
       "Don't Mind                                 hot-100                 hot-100\n",
       "Exchange                                   hot-100                 hot-100\n",
       "Fast Car                    dance-electronic-songs  dance-electronic-songs\n",
       "Formation                                  hot-100                 hot-100\n",
       "Gold                                       hot-100                 hot-100\n",
       "Grammys                                    hot-100                 hot-100\n",
       "Head Over Boots                            hot-100                 hot-100\n",
       "Hold Up                                    hot-100                 hot-100\n",
       "Humble And Kind                            hot-100                 hot-100\n",
       "Hype                                       hot-100                 hot-100\n",
       "I Hate U I Love U                          hot-100                 hot-100\n",
       "I Wanna Know                dance-electronic-songs  dance-electronic-songs\n",
       "If It Ain't Love                           hot-100                 hot-100\n",
       "Is It Love                  dance-electronic-songs  dance-electronic-songs\n",
       "Kill Em With Kindness                      hot-100                 hot-100\n",
       "Law                                        hot-100                 hot-100\n",
       "Let It Go                                  hot-100                 hot-100\n",
       "...                                            ...                     ...\n",
       "Panda                                      hot-100                 hot-100\n",
       "Peter Pan                                  hot-100                 hot-100\n",
       "Piece By Piece                             hot-100                 hot-100\n",
       "Raging                      dance-electronic-songs  dance-electronic-songs\n",
       "Really Really                              hot-100                 hot-100\n",
       "Record Year                                hot-100                 hot-100\n",
       "Redemption                                 hot-100                 hot-100\n",
       "Ride                                       hot-100                 hot-100\n",
       "Roses                       dance-electronic-songs  dance-electronic-songs\n",
       "Running Out                 dance-electronic-songs  dance-electronic-songs\n",
       "Snapback                                   hot-100                 hot-100\n",
       "Sorry                                      hot-100                 hot-100\n",
       "Stay                        dance-electronic-songs  dance-electronic-songs\n",
       "Still Here                                 hot-100                 hot-100\n",
       "Stressed Out                               hot-100                 hot-100\n",
       "T-Shirt                                    hot-100                 hot-100\n",
       "Takes My Body Higher        dance-electronic-songs  dance-electronic-songs\n",
       "This Is What You Came For   dance-electronic-songs  dance-electronic-songs\n",
       "U With Me?                                 hot-100                 hot-100\n",
       "Uber Everywhere                            hot-100                 hot-100\n",
       "Unsteady                                   hot-100                 hot-100\n",
       "Wake Up                                    hot-100                 hot-100\n",
       "Wasted Time                                hot-100                 hot-100\n",
       "Wherever I Go                              hot-100                 hot-100\n",
       "Wild Things                                hot-100                 hot-100\n",
       "With You                                   hot-100                 hot-100\n",
       "Work                                       hot-100                 hot-100\n",
       "Work From Home                             hot-100                 hot-100\n",
       "You Don't Own Me                           hot-100                 hot-100\n",
       "Youth                                      hot-100                 hot-100\n",
       "\n",
       "[81 rows x 2 columns]"
      ]
     },
     "execution_count": 49,
     "metadata": {},
     "output_type": "execute_result"
    }
   ],
   "source": [
    "\n",
    "forest = forest.fit( word_bag, train[\"chart_name\"] )\n",
    "\n",
    "result2 = forest.predict(word_bag)\n",
    "output = pd.DataFrame( data={\"realChart\":train[\"chart_name\"], \"prediction\":result2} )\n",
    "output"
   ]
  },
  {
   "cell_type": "code",
   "execution_count": 50,
   "metadata": {
    "collapsed": false
   },
   "outputs": [
    {
     "name": "stdout",
     "output_type": "stream",
     "text": [
      "                                     prediction               realChart\n",
      "title                                                                  \n",
      "7 Years                                 hot-100                 hot-100\n",
      "Cake By The Ocean                       hot-100                 hot-100\n",
      "Can't Stop The Feeling!                 hot-100                 hot-100\n",
      "Cheap Thrills                           hot-100                 hot-100\n",
      "Dangerous Woman                         hot-100                 hot-100\n",
      "Feel No Ways                            hot-100                 hot-100\n",
      "Fix                                     hot-100                 hot-100\n",
      "Hasta El Amanecer                       hot-100                 hot-100\n",
      "I Took A Pill In Ibiza                  hot-100                 hot-100\n",
      "Inside Out                              hot-100  dance-electronic-songs\n",
      "Into You                                hot-100                 hot-100\n",
      "Kiss It Better                          hot-100                 hot-100\n",
      "La La Land               dance-electronic-songs  dance-electronic-songs\n",
      "Light It Up                             hot-100  dance-electronic-songs\n",
      "Middle                                  hot-100  dance-electronic-songs\n",
      "Never Forget You                        hot-100  dance-electronic-songs\n",
      "No Problem                              hot-100                 hot-100\n",
      "Pop Style                               hot-100                 hot-100\n",
      "Sex                      dance-electronic-songs  dance-electronic-songs\n",
      "Somewhere On A Beach                    hot-100                 hot-100\n",
      "The Sound Of Silence                    hot-100                 hot-100\n"
     ]
    }
   ],
   "source": [
    "from sklearn import linear_model\n",
    "logreg = linear_model.LogisticRegression(C=1e5)\n",
    "logreg.fit(word_bag,train[\"chart_name\"])\n",
    "\n",
    "prediction = logreg.predict(test_data_features)\n",
    "output = pd.DataFrame( data={\"realChart\":cleaned_lyrics_BB[\"chart_name\"], \"prediction\":prediction})\n",
    "print output"
   ]
  },
  {
   "cell_type": "code",
   "execution_count": 64,
   "metadata": {
    "collapsed": false
   },
   "outputs": [
    {
     "name": "stdout",
     "output_type": "stream",
     "text": [
      "https://www.musixmatch.com/lyrics/Celine-Dion/Faded\n",
      "couldn't find on musixmatch\n",
      "searching chartlyrics\n",
      "http://www.chartlyrics.com/xfD0ZZ7vDEmu45Ceeuayqw/Fade+to+Black.aspx\n",
      "-Solo- \n",
      "Life it seems, will fade away\n",
      "Drifting further, everyday\n",
      "Getting lost, within myself\n",
      "Nothing matters, no one else\n",
      "I have lost the will to live\n",
      "Simply nothing more to give\n",
      "There is nothing more for me\n",
      "Need the end to set me free \n",
      "-Solo- \n",
      "Things not what they used to be\n",
      "Missing one inside of me\n",
      "Deathly loss, this can't be real\n",
      "I cannot stand this hell I feel\n",
      "Emptiness is filling me\n",
      "To the point of agony\n",
      "Growing darkness, taking dawn\n",
      "I was me, but now he's gone \n",
      "No one but me\n",
      "Can save myself\n",
      "But it's too late\n",
      "Now I can't think\n",
      "Think why I should even try \n",
      "Yesterday seems as though\n",
      "It never existed\n",
      "Death greets me warm\n",
      "Now I will just say goodbye\n",
      "Bye......... \n",
      "-Solo-\n",
      "\n",
      "random forest guess is hot-100\n",
      "logistic regression guess is hot-100\n"
     ]
    }
   ],
   "source": [
    "%run get_song_lyrics.py\n",
    "#artist = 'Celine Dion'\n",
    "title = 'Faded'\n",
    "\n",
    "lyrics = get_song_lyrics(title,artist)\n",
    "print lyrics[0]\n",
    "words = song_to_words(lyrics[0])\n",
    "feat = vectorizer.transform([words])\n",
    "\n",
    "result3 = forest.predict(feat)\n",
    "print '\\nrandom forest guess is ' + result3[0]\n",
    "\n",
    "\n",
    "result4 = logreg.predict(feat)\n",
    "print 'logistic regression guess is ' + result4[0]\n",
    "\n",
    "\n",
    "\n",
    "\n",
    "\n"
   ]
  },
  {
   "cell_type": "code",
   "execution_count": 101,
   "metadata": {
    "collapsed": false
   },
   "outputs": [
    {
     "data": {
      "text/plain": [
       "tuple"
      ]
     },
     "execution_count": 101,
     "metadata": {},
     "output_type": "execute_result"
    }
   ],
   "source": [
    "type(lyrics)"
   ]
  },
  {
   "cell_type": "code",
   "execution_count": 109,
   "metadata": {
    "collapsed": false
   },
   "outputs": [
    {
     "data": {
      "text/plain": [
       "<1x43 sparse matrix of type '<type 'numpy.int64'>'\n",
       "\twith 43 stored elements in Compressed Sparse Row format>"
      ]
     },
     "execution_count": 109,
     "metadata": {},
     "output_type": "execute_result"
    }
   ],
   "source": [
    "feat"
   ]
  },
  {
   "cell_type": "code",
   "execution_count": null,
   "metadata": {
    "collapsed": true
   },
   "outputs": [],
   "source": []
  }
 ],
 "metadata": {
  "kernelspec": {
   "display_name": "Python 2",
   "language": "python",
   "name": "python2"
  },
  "language_info": {
   "codemirror_mode": {
    "name": "ipython",
    "version": 2
   },
   "file_extension": ".py",
   "mimetype": "text/x-python",
   "name": "python",
   "nbconvert_exporter": "python",
   "pygments_lexer": "ipython2",
   "version": "2.7.11"
  }
 },
 "nbformat": 4,
 "nbformat_minor": 0
}
