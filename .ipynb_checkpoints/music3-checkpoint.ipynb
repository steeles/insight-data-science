{
 "cells": [
  {
   "cell_type": "code",
   "execution_count": 33,
   "metadata": {
    "collapsed": false
   },
   "outputs": [
    {
     "name": "stdout",
     "output_type": "stream",
     "text": [
      "https://www.musixmatch.com/lyrics/Bloodhound-Gang/Bad-Touch\n",
      "found lyrics on musixmatch!\n"
     ]
    }
   ],
   "source": [
    "import requests\n",
    "import urllib\n",
    "from urllib import quote_plus, quote\n",
    "from urlparse import urljoin\n",
    "from bs4 import BeautifulSoup\n",
    "import re\n",
    "\n",
    "import pdb \n",
    "\n",
    "song_title=\"Bad Touch\"\n",
    "artist = \"Bloodhound Gang\"\n",
    "\n",
    "if song_title is None:\n",
    "    song_title = raw_input(\"Please enter a song title: \")\n",
    "    artist = raw_input(\"Who is the artist?\")\n",
    "\n",
    "#if artist is not None:\n",
    "\n",
    "originalTitle = song_title\n",
    "originalArtist = artist\n",
    "\n",
    "artist = re.sub(\"[\\.&]\",\"\",artist)\n",
    "artist = re.sub(\" +\",\"-\",artist)\n",
    "artist = re.sub(\"Featuring\",\"feat\",artist)\n",
    "song_title = re.sub(\"\\'\",\"-\",song_title)\n",
    "song_title = re.sub(\" \",\"-\",song_title)\n",
    "\n",
    "url2 = \"https://www.musixmatch.com/lyrics/\" + artist + \\\n",
    "                   \"/\" + song_title\n",
    "\n",
    "print url2\n",
    "\n",
    "\n",
    "response = urllib.urlopen(url2).read()\n",
    "soup = BeautifulSoup(response,'lxml')\n",
    "\n",
    "tmp = soup.find_all(\"script\")[5]\n",
    "\n",
    "\n",
    "\n",
    "lyrics = re.findall(\"body\\\":\\\"(.*?)\\\"\",response)\n",
    "\n",
    "title = originalArtist + \": \" + originalTitle\n",
    "print \"found lyrics on musixmatch!\"\n",
    "#return lyrics, title"
   ]
  },
  {
   "cell_type": "code",
   "execution_count": 36,
   "metadata": {
    "collapsed": false
   },
   "outputs": [
    {
     "data": {
      "text/plain": [
       "[u'var __mxmProps = {\"pageProps\":{\"pageName\":\"track\"}};var ',\n",
       " u'{\"lyrics\":{\"showChanges\":false,\"loadingTranslation\":false,\"translationLanguage\":null,\"translation\":null},\"embedly\":{\"duration\":\"00:00\",\"seconds\":\"00:00\",\"play\":null,\"onSliderChange\":null,\"onSliderAfterChange\":null,\"playState\":false,\"pause\":null,\"pauseState\":false,\"identifier\":null},\"page\":{\"track\":{\"id\":9009202,\"spotifyId\":\"\",\"soundcloudId\":0,\"name\":\"Bad Touch\",\"rating\":53,\"length\":261,\"instrumental\":0,\"explicit\":0,\"hasLyrics\":1,\"hasSubtitles\":1,\"numFavourite\":160,\"albumId\":11002173,\"albumName\":\"Playlist Your Way\",\"artistId\":706,\"artistName\":\"Bloodhound Gang\",\"albumCoverart100x100\":\"http://s.mxmcdn.net/images-storage/albums8/6/0/4/1/3/5/11531406.jpg\",\"albumCoverart350x350\":\"http://s.mxmcdn.net/images-storage/albums8/6/0/4/1/3/5/11531406_350_350.jpg\",\"albumCoverart500x500\":\"http://s.mxmcdn.net/images-storage/albums8/6/0/4/1/3/5/11531406_500_500.jpg\",\"albumCoverart800x800\":\"http://s.mxmcdn.net/images-storage/albums8/6/0/4/1/3/5/11531406_800_800.jpg\",\"shareUrl\":\"https://www.musixmatch.com/lyrics/Bloodhound-Gang/Bad-Touch\",\"commontrackVanityId\":\"Bloodhound-Gang/Bad-Touch\",\"restricted\":0,\"firstReleaseDate\":\"2007-03-22T00:00:00Z\",\"updatedTime\":\"2016-03-25T19:17:29Z\",\"artist\":{\"id\":706,\"name\":\"Bloodhound Gang\",\"comment\":\"\",\"vanityId\":\"Bloodhound-Gang\",\"credits\":[],\"restricted\":0,\"managed\":0},\"lyricsTranslationStatus\":[],\"apiHeader\":{\"statusCode\":200,\"executeTime\":0.011112928390503},\"vanitiesId\":{\"artistVanityId\":\"Bloodhound-Gang\",\"trackVanityId\":\"Bad-Touch\"},\"media\":{}},\"activities\":{\"list\":[{\"typeId\":\"lyrics_subtitle_added\",\"description\":\"\",\"appId\":\"api-php\",\"artistId\":706,\"originalUri\":null,\"wantkey\":false,\"lyricsId\":0,\"typeIdWeight\":7,\"lastUpdated\":\"2016-06-09T02:56:22Z\",\"key\":\"296e3e8e989feca77cd9a27f06438edd7ec4096417ea84eda05edecf4d7c56cc\",\"createTimestamp\":1465440982,\"groupKey\":\"296e3e8e989feca77cd9a27f06438edd7ec4096417ea84eda05edecf4d7c56cc\",\"imageId\":0,\"videoId\":0,\"subtitleId\":0,\"updatedTime\":\"2016-06-09T02:56:22Z\",\"createdDate\":\"2016-06-09T02:56:22Z\",\"commontrackId\":226900,\"isExpired\":0,\"user\":{\"uaid\":\"T1fxsi7L0hA9TXRdJ66bf1H95N0Zfj8+AUNABwcayhc=\",\"isMine\":0,\"name\":\"elvis camacaro\",\"profilePhoto\":\"https://lh3.googleusercontent.com/-XdUIqdMkCWA/AAAAAAAAAAI/AAAAAAAAAAA/4252rscbv5M/photo.jpg?sz=50\",\"hasPrivateProfile\":0,\"score\":204,\"position\":7637,\"weeklyScore\":14,\"level\":\"standard\",\"key\":null,\"counters\":{\"lyricsSubtitleAdded\":28,\"lyricsFavouriteAdded\":15,\"lyricsToAdd\":8}}},{\"typeId\":\"lyrics_subtitle_added\",\"description\":\"\",\"appId\":\"api-php\",\"artistId\":706,\"originalUri\":null,\"wantkey\":false,\"lyricsId\":0,\"typeIdWeight\":7,\"lastUpdated\":\"2016-05-13T04:16:50Z\",\"key\":\"bcffc14c3329a3a2c22aa598e85c068e6e87d31732d2c50f85bde541c378f9ff\",\"createTimestamp\":1463113010,\"groupKey\":\"bcffc14c3329a3a2c22aa598e85c068e6e87d31732d2c50f85bde541c378f9ff\",\"imageId\":0,\"videoId\":0,\"subtitleId\":0,\"updatedTime\":\"2016-05-13T04:16:50Z\",\"createdDate\":\"2016-05-13T04:16:50Z\",\"commontrackId\":226900,\"isExpired\":0,\"user\":{\"uaid\":\"a+jiDIwNKbOgJrSlKyYYwXJjy/D9AxwyOkJ8oDXR93s1qXaiza9SDFUPyLV/Adu49+po4lwUtyiOugOesGCYDg==\",\"isMine\":0,\"name\":\"Jurgen Minogue\",\"profilePhoto\":\"https://s.mxmcdn.net/user/user_empty.png\",\"hasPrivateProfile\":0,\"score\":23,\"position\":27345,\"weeklyScore\":7,\"level\":\"standard\",\"key\":null,\"counters\":{\"lyricsSubtitleAdded\":3,\"lyricsMusicId\":2,\"lyricsToAdd\":2,\"lyricsFavouriteAdded\":1}}},{\"typeId\":\"lyrics_subtitle_added\",\"description\":\"\",\"appId\":\"api-php\",\"artistId\":706,\"originalUri\":null,\"wantkey\":false,\"lyricsId\":0,\"typeIdWeight\":7,\"lastUpdated\":\"2016-04-27T05:29:09Z\",\"key\":\"c01f15dc9ab7d34305731b781a5829b692ba3acf88d395aac71dd8b9b44c4151\",\"createTimestamp\":1461734949,\"groupKey\":\"c01f15dc9ab7d34305731b781a5829b692ba3acf88d395aac71dd8b9b44c4151\",\"imageId\":0,\"videoId\":0,\"subtitleId\":0,\"updatedTime\":\"2016-04-27T05:29:09Z\",\"createdDate\":\"2016-04-27T05:29:09Z\",\"commontrackId\":226900,\"isExpired\":0,\"user\":{\"uaid\":\"VlLyKkV7MchLe6901OrGFOyBrZABdhYBJYhCoPegkyo=\",\"isMine\":0,\"name\":\"Vanessa D L T Romainville\",\"profilePhoto\":\"https://graph.facebook.com/100001218459265/picture\",\"hasPrivateProfile\":0,\"score\":131,\"position\":3178,\"weeklyScore\":30,\"level\":\"standard\",\"key\":\"25b53959c4d6a1dced3f092213ff37f112f5a4fde8b2be942fbc801fcc4f1967\",\"counters\":{\"lyricsToAdd\":4,\"lyricsFavouriteAdded\":7,\"lyricsSubtitleAdded\":18,\"lyricsOk\":1}}},{\"typeId\":\"lyrics_subtitle_added\",\"description\":\"\",\"appId\":\"api-php\",\"artistId\":706,\"originalUri\":null,\"wantkey\":false,\"lyricsId\":0,\"typeIdWeight\":7,\"lastUpdated\":\"2016-04-25T23:02:28Z\",\"key\":\"266f77582c6a7182ecf12a5a7809f38fe61d1d66da8e67ab64f80a4fea4217a6\",\"createTimestamp\":1461625348,\"groupKey\":\"266f77582c6a7182ecf12a5a7809f38fe61d1d66da8e67ab64f80a4fea4217a6\",\"imageId\":0,\"videoId\":0,\"subtitleId\":0,\"updatedTime\":\"2016-04-25T23:02:28Z\",\"createdDate\":\"2016-04-25T23:02:28Z\",\"commontrackId\":226900,\"isExpired\":0,\"user\":{\"uaid\":\"4+jq3mPOIoobYhPXY0yLvklSkOmZsv1y3feIzjnj+3M=\",\"isMine\":0,\"name\":\"Rosemberg Ross Garc\\xeda\",\"profilePhoto\":\"https://graph.facebook.com/159011431107770/picture\",\"hasPrivateProfile\":0,\"score\":49,\"position\":0,\"weeklyScore\":0,\"level\":\"standard\",\"key\":\"34e7392ab3a9be4d43d385c47c2e8199ebfd6816251bd1b156dc169c90a447a0\",\"counters\":{\"lyricsMusicId\":16,\"lyricsFavouriteAdded\":2,\"lyricsSubtitleAdded\":7}}},{\"typeId\":\"lyrics_subtitle_added\",\"description\":\"\",\"appId\":\"api-php\",\"artistId\":706,\"originalUri\":null,\"wantkey\":false,\"lyricsId\":0,\"typeIdWeight\":7,\"lastUpdated\":\"2016-04-13T22:25:17Z\",\"key\":\"d2b2469ca1ba1df988f43a6b33f582f490b0862202209e570d19873d3518268f\",\"createTimestamp\":1460586317,\"groupKey\":\"d2b2469ca1ba1df988f43a6b33f582f490b0862202209e570d19873d3518268f\",\"imageId\":0,\"videoId\":0,\"subtitleId\":0,\"updatedTime\":\"2016-04-13T22:25:17Z\",\"createdDate\":\"2016-04-13T22:25:17Z\",\"commontrackId\":226900,\"isExpired\":0,\"user\":{\"uaid\":\"oKJQMA/KQoFE0YqoWUZeEn896jOAqvUB6cO/c2Brr9Q=\",\"isMine\":0,\"name\":\"melany quintero\",\"profilePhoto\":\"https://lh3.googleusercontent.com/-kFiJ6naTqsg/AAAAAAAAAAI/AAAAAAAAADE/R1easqfFAwA/photo.jpg?sz=50\",\"hasPrivateProfile\":0,\"score\":21,\"position\":22354,\"weeklyScore\":7,\"level\":\"standard\",\"key\":\"0ff5e6c4262b69546e01a87d6de1a0ae6dd6b0ad3fc6ea0610ebd23364b60241\",\"counters\":{\"lyricsSubtitleAdded\":3}}},{\"typeId\":\"lyrics_changed\",\"description\":\"track.setLyricsId\",\"appId\":\"api-php\",\"prevLyricsId\":7188451,\"artistId\":706,\"wantkey\":true,\"lyricsId\":13253539,\"typeIdWeight\":6,\"lastUpdated\":\"2016-03-25T19:17:29Z\",\"key\":\"7247c1b19dc243c687a0e42b6b27f0f95c5b888f3f906a7e31586cb41275b101\",\"createTimestamp\":1458933449,\"groupKey\":\"7247c1b19dc243c687a0e42b6b27f0f95c5b888f3f906a7e31586cb41275b101\",\"imageId\":0,\"videoId\":0,\"subtitleId\":0,\"updatedTime\":\"2016-03-25T19:17:29Z\",\"createdDate\":\"2016-03-25T19:17:29Z\",\"commontrackId\":226900,\"isExpired\":0,\"user\":{\"uaid\":\"Io8cJjAFrNgsF/HNLBJFUU1X3HLOe8/IY2zcqqsKmAM=\",\"isMine\":0,\"name\":\"Mr. SaladTits\",\"profilePhoto\":\"https://lh3.googleusercontent.com/-Vggq9XHx_Xw/AAAAAAAAAAI/AAAAAAAABwI/rxxGTkufH4s/photo.jpg?sz=50\",\"hasPrivateProfile\":0,\"score\":532,\"position\":0,\"weeklyScore\":0,\"level\":\"standard\",\"key\":\"7dd8032c85093f476cab7611c0e85539dc82391a6254432518516af48f12f871\",\"counters\":{\"lyricsOk\":35,\"lyricsFavouriteAdded\":4,\"lyricsKo\":13,\"lyricsMissing\":18,\"lyricsSubtitleAdded\":5,\"lyricsMusicId\":2,\"lyricsChanged\":10,\"lyricsToAdd\":1}}}],\"apiHeader\":{\"statusCode\":200,\"executeTime\":0.03033709526062}},\"lyrics\":{\"crowdLyricsList\":[{\"id\":15336060,\"canEdit\":0,\"locked\":0,\"actionRequested\":\"\",\"verified\":0,\"restricted\":0,\"instrumental\":0,\"explicit\":1,\"body\":\"Me and you do the kind of stuff that only Prince would sing about\\\\nSo put your hands down my pants and I\\'ll bet you\\'ll feel nuts\\\\n\\\\nYes I\\'m Siskel yes I\\'m Ebert and you\\'re getting two thumbs up\\\\n\\\\nYou\\'ve had enough of two-hand touch you want it rough you\\'re out of bounds\\\\nI want you smothered want you covered like my Waffle House hashbrowns\\\\nComin\\' quicker than FedEx never reach an apex\\\\njust like Coca-Cola stock you are inclined\\\\nTo make me rise an hour early just like Daylight Savings Time\\\\nDo it now\\\\nYou and me baby ain\\'t nothin\\' but mammals\\\\nSo let\\'s do it like they do on the Discovery Channel\\\\nDo it again now\\\\n\\\\nYou and me baby ain\\'t nothin\\' but mammals\\\\nSo let\\'s do it like they do on the Discovery Channel\\\\nGettin\\' horny now\\\\nLove the kind you clean up with a mop and bucket\\\\nLike the lost catacombs of Egypt only God knows where we stuck it\\\\nHieroglyphics? Let me be Pacific I wanna be down in your South Seas\\\\nBut I got this notion that the motion of your ocean means small craft advisory\\\\n\\\\nSo if I capsize on your thighs high tide B-5 you sunk my battleship\\\\nPlease turn me on I\\'m Mister Coffee with an automatic drip\\\\nSo show me yours I\\'ll show you mine \\\\\"Tool Time\\\\\" you\\'ll Lovett just like Lyle\\\\nAnd then we\\'ll do it doggy style so we can both watch \\\\\"X-Files\\\\\"\\\\nDo it now\\\\nYou and me baby ain\\'t nothin\\' but mammals\\\\nSo let\\'s do it like they do on the Discovery Channel\\\\nDo it again now\\\\n\\\\nYou and me baby ain\\'t nothin\\' but mammals\\\\nSo let\\'s do it like they do on the Discovery Channel\\\\nGettin\\' horny now\\\\nYou and me baby ain\\'t nothin\\' but mammals\\\\nSo let\\'s do it like they do on the Discovery Channel\\\\nDo it again now\\\\nYou and me baby ain\\'t nothin\\' but mammals\\\\n\\\\nSo let\\'s do it like they do on the Discovery Channel\\\\nDo it now\\\\nYou and me baby ain\\'t nothin\\' but mammals\\\\nSo let\\'s do it like they do on the Discovery Channel\\\\nDo it again now\\\\nSo let\\'s do it like they do on the Discovery Channel\\\\nGettin\\' horny now\",\"language\":\"en\",\"languageDescription\":\"English\",\"scriptTrackingUrl\":\"http://tracking.musixmatch.com/t1.0/m_js/e_0/sn_0/l_15336060/su_0/tr_M5VbFh1PQ7PbRIf7XhysySqosY+lUu+czPu3+kBF8kjZ72KYD7cqixJZ+3OlmV72ET+VhzMtoR+7EuOeTYr/czaI802Z42/g/YcDqDDQsxnDLuoMJqVVSNkcrVuQP94oHO29MsWr+PkwEofpT38rGi7LBe6h0YNASlrwQf+OI8YXAfAfck51ZwxIVwW+Xmf7IPRr+qGowkEyfCZkq9OvV2FXwa4+tpHz9huTqi82jcAG/HtDEkzkKQOJv0XuUm6NkKlIfyErUGYkSfwayrYYjl4f+31krQie/EFiT0m1/ylgXxsX/vnKrtGTAN4aHMm+88+sRLi5mcuTCiQaJr+oz0MR2ms98jnffBXGzTZvAovLNZzhdD27vyhibR4ztQm4S4mzJIEH+3DNBIclO3aAGBTFnkOEEWfz280Wn7vhqq4nYY8P+UgK9HavrrPwHem82SUE64GwanujDdNsbl5ZrA==/\",\"pixelTrackingUrl\":\"http://tracking.musixmatch.com/t1.0/m_img/e_0/sn_0/l_15336060/su_0/tr_M5VbFh1PQ7PbRIf7XhysySqosY+lUu+czPu3+kBF8kjZ72KYD7cqixJZ+3OlmV72ET+VhzMtoR+7EuOeTYr/czaI802Z42/g/YcDqDDQsxnDLuoMJqVVSNkcrVuQP94oHO29MsWr+PkwEofpT38rGi7LBe6h0YNASlrwQf+OI8YXAfAfck51ZwxIVwW+Xmf7IPRr+qGowkEyfCZkq9OvV2FXwa4+tpHz9huTqi82jcAG/HtDEkzkKQOJv0XuUm6NkKlIfyErUGYkSfwayrYYjl4f+31krQie/EFiT0m1/ylgXxsX/vnKrtGTAN4aHMm+88+sRLi5mcuTCiQaJr+oz0MR2ms98jnffBXGzTZvAovLNZzhdD27vyhibR4ztQm4S4mzJIEH+3DNBIclO3aAGBTFnkOEEWfz280Wn7vhqq4nYY8P+UgK9HavrrPwHem82SUE64GwanujDdNsbl5ZrA==/\",\"htmlTrackingUrl\":\"http://tracking.musixmatch.com/t1.0/m_html/e_0/sn_0/l_15336060/su_0/tr_M5VbFh1PQ7PbRIf7XhysySqosY+lUu+czPu3+kBF8kjZ72KYD7cqixJZ+3OlmV72ET+VhzMtoR+7EuOeTYr/czaI802Z42/g/YcDqDDQsxnDLuoMJqVVSNkcrVuQP94oHO29MsWr+PkwEofpT38rGi7LBe6h0YNASlrwQf+OI8YXAfAfck51ZwxIVwW+Xmf7IPRr+qGowkEyfCZkq9OvV2FXwa4+tpHz9huTqi82jcAG/HtDEkzkKQOJv0XuUm6NkKlIfyErUGYkSfwayrYYjl4f+31krQie/EFiT0m1/ylgXxsX/vnKrtGTAN4aHMm+88+sRLi5mcuTCiQaJr+oz0MR2ms98jnffBXGzTZvAovLNZzhdD27vyhibR4ztQm4S4mzJIEH+3DNBIclO3aAGBTFnkOEEWfz280Wn7vhqq4nYY8P+UgK9HavrrPwHem82SUE64GwanujDdNsbl5ZrA==/\",\"copyright\":\"\",\"writerList\":[],\"publisherList\":[],\"updatedTime\":\"2016-05-11T14:12:30Z\",\"user\":{\"uaid\":\"0/knhhpLWXQ8+SkYxTfWlGkTN59ja12S+g33qEI1z/Q=\",\"isMine\":0,\"name\":\"Juan David Adarve\",\"profilePhoto\":\"https://graph.facebook.com/621832307/picture\",\"hasPrivateProfile\":0,\"score\":3,\"position\":76881,\"weeklyScore\":3,\"level\":\"standard\",\"key\":\"7117b8ae392d4d717da7c5926a2bc67c34d63693ac7bac4da796a5684e6d8d44\",\"counters\":{\"lyricsFavouriteAdded\":1,\"lyricsMissing\":1}}}],\"lyrics\":{\"id\":13253539,\"canEdit\":0,\"locked\":0,\"actionRequested\":\"\",\"verified\":0,\"restricted\":0,\"instrumental\":0,\"explicit\":1,\"body\":\"I\\'d appreciate your input.\\\\nSweat baby sweat baby sex is a Texas drought\\\\nMe and you do the kind of stuff that only Prince would sing about\\\\n\\\\nSo put your hands down my pants and I\\'ll bet you\\'ll feel nuts\\\\n\\\\nYes I\\'m Siskel yes I\\'m Ebert and you\\'re getting two thumbs up\\\\nYou\\'ve had enough of two-hand touch you want it rough you\\'re out of bounds\\\\nI want you smothered want you covered like my Waffle House hashbrowns\\\\nComin\\' quicker than FedEx never reach an apex\\\\njust like Coca-Cola stock you are inclined\\\\nTo make me rise an hour early just like Daylight Savings Time\\\\nDo it now\\\\nYou and me baby ain\\'t nothin\\' but mammals\\\\nSo let\\'s do it like they do on the Discovery Channel\\\\n\\\\nDo it again now\\\\nYou and me baby ain\\'t nothin\\' but mammals\\\\nSo let\\'s do it like they do on the Discovery Channel\\\\nGettin\\' horny now\\\\nLove the kind you clean up with a mop and bucket\\\\nLike the lost catacombs of Egypt only God knows where we stuck it\\\\nHieroglyphics? Let me be Pacific I wanna be down in your South Seas\\\\n\\\\nBut I got this notion that the motion of your ocean means small craft advisory\\\\nSo if I capsize on your thighs high tide B-5 you sunk my battleship\\\\nPlease turn me on I\\'m Mister Coffee with an automatic drip\\\\nSo show me yours I\\'ll show you mine \\\\\"Tool Time\\\\\" you\\'ll Lovett just like Lyle\\\\nAnd then we\\'ll do it doggy style so we can both watch \\\\\"X-Files\\\\\"\\\\nDo it now\\\\nYou and me baby ain\\'t nothin\\' but mammals\\\\nSo let\\'s do it like they do on the Discovery Channel\\\\n\\\\nDo it again now\\\\nYou and me baby ain\\'t nothin\\' but mammals\\\\nSo let\\'s do it like they do on the Discovery Channel\\\\nGettin\\' horny now\\\\nYou and me baby ain\\'t nothin\\' but mammals\\\\nSo let\\'s do it like they do on the Discovery Channel\\\\nDo it again now\\\\n\\\\nYou and me baby ain\\'t nothin\\' but mammals\\\\nSo let\\'s do it like they do on the Discovery Channel\\\\nDo it now\\\\nYou and me baby ain\\'t nothin\\' but mammals\\\\nSo let\\'s do it like they do on the Discovery Channel\\\\nDo it again now\\\\nYou and me baby ain\\'t nothin\\' but mammals\\\\nSo let\\'s do it like they do on the Discovery Channel\\\\nGettin\\' horny now\",\"language\":\"en\",\"languageDescription\":\"English\",\"scriptTrackingUrl\":\"http://tracking.musixmatch.com/t1.0/m_js/e_0/sn_0/l_13253539/su_0/tr_M5VbFh1PQ7PbRIf7XhysySqosY+lUu+czPu3+kBF8kjZ72KYD7cqixJZ+3OlmV72ET+VhzMtoR+7EuOeTYr/czaI802Z42/g/YcDqDDQsxnDLuoMJqVVSNkcrVuQP94oHO29MsWr+PkwEofpT38rGi7LBe6h0YNASlrwQf+OI8YXAfAfck51ZwxIVwW+Xmf7IPRr+qGowkEyfCZkq9OvV2FXwa4+tpHz9huTqi82jcAG/HtDEkzkKQOJv0XuUm6NkKlIfyErUGYkSfwayrYYjl4f+31krQie/EFiT0m1/ylgXxsX/vnKrtGTAN4aHMm+88+sRLi5mcuTCiQaJr+oz0MR2ms98jnffBXGzTZvAovLNZzhdD27vyhibR4ztQm4S4mzJIEH+3DNBIclO3aAGBTFnkOEEWfz280Wn7vhqq4nYY8P+UgK9HavrrPwHem82SUE64GwanujDdNsbl5ZrA==/\",\"pixelTrackingUrl\":\"http://tracking.musixmatch.com/t1.0/m_img/e_0/sn_0/l_13253539/su_0/tr_M5VbFh1PQ7PbRIf7XhysySqosY+lUu+czPu3+kBF8kjZ72KYD7cqixJZ+3OlmV72ET+VhzMtoR+7EuOeTYr/czaI802Z42/g/YcDqDDQsxnDLuoMJqVVSNkcrVuQP94oHO29MsWr+PkwEofpT38rGi7LBe6h0YNASlrwQf+OI8YXAfAfck51ZwxIVwW+Xmf7IPRr+qGowkEyfCZkq9OvV2FXwa4+tpHz9huTqi82jcAG/HtDEkzkKQOJv0XuUm6NkKlIfyErUGYkSfwayrYYjl4f+31krQie/EFiT0m1/ylgXxsX/vnKrtGTAN4aHMm+88+sRLi5mcuTCiQaJr+oz0MR2ms98jnffBXGzTZvAovLNZzhdD27vyhibR4ztQm4S4mzJIEH+3DNBIclO3aAGBTFnkOEEWfz280Wn7vhqq4nYY8P+UgK9HavrrPwHem82SUE64GwanujDdNsbl5ZrA==/\",\"htmlTrackingUrl\":\"http://tracking.musixmatch.com/t1.0/m_html/e_0/sn_0/l_13253539/su_0/tr_M5VbFh1PQ7PbRIf7XhysySqosY+lUu+czPu3+kBF8kjZ72KYD7cqixJZ+3OlmV72ET+VhzMtoR+7EuOeTYr/czaI802Z42/g/YcDqDDQsxnDLuoMJqVVSNkcrVuQP94oHO29MsWr+PkwEofpT38rGi7LBe6h0YNASlrwQf+OI8YXAfAfck51ZwxIVwW+Xmf7IPRr+qGowkEyfCZkq9OvV2FXwa4+tpHz9huTqi82jcAG/HtDEkzkKQOJv0XuUm6NkKlIfyErUGYkSfwayrYYjl4f+31krQie/EFiT0m1/ylgXxsX/vnKrtGTAN4aHMm+88+sRLi5mcuTCiQaJr+oz0MR2ms98jnffBXGzTZvAovLNZzhdD27vyhibR4ztQm4S4mzJIEH+3DNBIclO3aAGBTFnkOEEWfz280Wn7vhqq4nYY8P+UgK9HavrrPwHem82SUE64GwanujDdNsbl5ZrA==/\",\"copyright\":\"\",\"writerList\":[],\"publisherList\":[],\"updatedTime\":\"2015-12-18T07:35:02Z\",\"user\":{\"uaid\":\"Io8cJjAFrNgsF/HNLBJFUU1X3HLOe8/IY2zcqqsKmAM=\",\"isMine\":0,\"name\":\"Mr. SaladTits\",\"profilePhoto\":\"https://lh3.googleusercontent.com/-Vggq9XHx_Xw/AAAAAAAAAAI/AAAAAAAABwI/rxxGTkufH4s/photo.jpg?sz=50\",\"hasPrivateProfile\":0,\"score\":532,\"position\":0,\"weeklyScore\":0,\"level\":\"standard\",\"key\":\"7dd8032c85093f476cab7611c0e85539dc82391a6254432518516af48f12f871\",\"counters\":{\"lyricsOk\":35,\"lyricsFavouriteAdded\":4,\"lyricsKo\":13,\"lyricsMissing\":18,\"lyricsSubtitleAdded\":5,\"lyricsMusicId\":2,\"lyricsChanged\":10,\"lyricsToAdd\":1}}},\"apiHeader\":{\"statusCode\":200,\"executeTime\":0.018141031265259}},\"loadingInPage\":false,\"album\":{\"id\":11002173,\"mbid\":\"83138ec3-2703-482c-9b82-066e464e3732\",\"name\":\"Playlist Your Way\",\"rating\":69,\"trackCount\":14,\"releaseDate\":\"\",\"releaseType\":\"Compilation\",\"artistId\":706,\"artistName\":\"Bloodhound Gang\",\"primaryGenres\":[],\"secondaryGenres\":[],\"pline\":\"\",\"copyright\":\"\",\"label\":\"\",\"vanityId\":\"Bloodhound-Gang/Playlist-Your-Way\",\"editUrl\":\"https://www.musixmatch.com/album/Bloodhound-Gang/Playlist-Your-Way?utm_source=application&utm_campaign=api&utm_medium=musixmatch-community\",\"restricted\":0,\"updatedTime\":\"2013-06-27T19:44:01Z\",\"coverart100x100\":\"http://s.mxmcdn.net/images-storage/albums8/6/0/4/1/3/5/11531406.jpg\",\"coverart350x350\":\"http://s.mxmcdn.net/images-storage/albums8/6/0/4/1/3/5/11531406_350_350.jpg\",\"coverart500x500\":\"http://s.mxmcdn.net/images-storage/albums8/6/0/4/1/3/5/11531406_500_500.jpg\",\"coverart800x800\":\"http://s.mxmcdn.net/images-storage/albums8/6/0/4/1/3/5/11531406_800_800.jpg\",\"apiHeader\":{\"statusCode\":200,\"executeTime\":0.0078380107879639},\"vanitiesId\":{\"artistVanityId\":\"Bloodhound-Gang\",\"albumVanityId\":\"Playlist-Your-Way\"}},\"tracks\":{\"list\":[{\"id\":14322772,\"spotifyId\":\"6NeZQqoIdEJOLT2wzsoxkl\",\"soundcloudId\":0,\"name\":\"Fire Water Burn\",\"rating\":65,\"length\":293,\"instrumental\":0,\"explicit\":0,\"hasLyrics\":1,\"hasSubtitles\":1,\"numFavourite\":82,\"albumId\":11002173,\"albumName\":\"Playlist Your Way\",\"artistId\":706,\"artistName\":\"Bloodhound Gang\",\"albumCoverart100x100\":\"http://s.mxmcdn.net/images-storage/albums8/6/0/4/1/3/5/11531406.jpg\",\"albumCoverart350x350\":\"http://s.mxmcdn.net/images-storage/albums8/6/0/4/1/3/5/11531406_350_350.jpg\",\"albumCoverart500x500\":\"http://s.mxmcdn.net/images-storage/albums8/6/0/4/1/3/5/11531406_500_500.jpg\",\"albumCoverart800x800\":\"http://s.mxmcdn.net/images-storage/albums8/6/0/4/1/3/5/11531406_800_800.jpg\",\"shareUrl\":\"https://www.musixmatch.com/lyrics/Bloodhound-Gang/Fire-Water-Burn\",\"commontrackVanityId\":\"Bloodhound-Gang/Fire-Water-Burn\",\"restricted\":0,\"firstReleaseDate\":\"1996-01-01T00:00:00Z\",\"updatedTime\":\"2016-05-06T21:30:59Z\",\"artist\":{\"id\":706,\"name\":\"Bloodhound Gang\",\"comment\":\"\",\"vanityId\":\"Bloodhound-Gang\",\"credits\":[],\"restricted\":0,\"managed\":0}},{\"id\":14322773,\"spotifyId\":\"4rf00ZhiMOM4Bl2rzlYEQE\",\"soundcloudId\":0,\"name\":\"Kiss Me Where It Smells Funny\",\"rating\":44,\"length\":186,\"instrumental\":0,\"explicit\":0,\"hasLyrics\":1,\"hasSubtitles\":1,\"numFavourite\":17,\"albumId\":11002173,\"albumName\":\"Playlist Your Way\",\"artistId\":706,\"artistName\":\"Bloodhound Gang\",\"albumCoverart100x100\":\"http://s.mxmcdn.net/images-storage/albums8/6/0/4/1/3/5/11531406.jpg\",\"albumCoverart350x350\":\"http://s.mxmcdn.net/images-storage/albums8/6/0/4/1/3/5/11531406_350_350.jpg\",\"albumCoverart500x500\":\"http://s.mxmcdn.net/images-storage/albums8/6/0/4/1/3/5/11531406_500_500.jpg\",\"albumCoverart800x800\":\"http://s.mxmcdn.net/images-storage/albums8/6/0/4/1/3/5/11531406_800_800.jpg\",\"shareUrl\":\"https://www.musixmatch.com/lyrics/Bloodhound-Gang/Kiss-Me-Where-It-Smells-Funny\",\"commontrackVanityId\":\"Bloodhound-Gang/Kiss-Me-Where-It-Smells-Funny\",\"restricted\":0,\"firstReleaseDate\":\"1996-01-01T00:00:00Z\",\"updatedTime\":\"2013-04-26T12:05:39Z\",\"artist\":{\"id\":706,\"name\":\"Bloodhound Gang\",\"comment\":\"\",\"vanityId\":\"Bloodhound-Gang\",\"credits\":[],\"restricted\":0,\"managed\":0}},{\"id\":14322774,\"spotifyId\":\"0gq49HRvDZGqNI0a43igtf\",\"soundcloudId\":0,\"name\":\"I Wish I Was Queer So I Could Get Chicks\",\"rating\":35,\"length\":230,\"instrumental\":0,\"explicit\":0,\"hasLyrics\":1,\"hasSubtitles\":1,\"numFavourite\":12,\"albumId\":11002173,\"albumName\":\"Playlist Your Way\",\"artistId\":706,\"artistName\":\"Bloodhound Gang\",\"albumCoverart100x100\":\"http://s.mxmcdn.net/images-storage/albums8/6/0/4/1/3/5/11531406.jpg\",\"albumCoverart350x350\":\"http://s.mxmcdn.net/images-storage/albums8/6/0/4/1/3/5/11531406_350_350.jpg\",\"albumCoverart500x500\":\"http://s.mxmcdn.net/images-storage/albums8/6/0/4/1/3/5/11531406_500_500.jpg\",\"albumCoverart800x800\":\"http://s.mxmcdn.net/images-storage/albums8/6/0/4/1/3/5/11531406_800_800.jpg\",\"shareUrl\":\"https://www.musixmatch.com/lyrics/Bloodhound-Gang/I-Wish-I-Was-Queer-So-I-Could-Get-Chicks\",\"commontrackVanityId\":\"Bloodhound-Gang/I-Wish-I-Was-Queer-So-I-Could-Get-Chicks\",\"restricted\":0,\"firstReleaseDate\":\"1996-01-01T00:00:00Z\",\"updatedTime\":\"2013-04-26T12:05:39Z\",\"artist\":{\"id\":706,\"name\":\"Bloodhound Gang\",\"comment\":\"\",\"vanityId\":\"Bloodhound-Gang\",\"credits\":[],\"restricted\":0,\"managed\":0}},{\"id\":14322775,\"spotifyId\":\"6LYmpP6EkxGpy36niKSbu3\",\"soundcloudId\":0,\"name\":\"Why\\'s Everybody Always Pickin\\' on Me\",\"rating\":25,\"length\":203,\"instrumental\":0,\"explicit\":0,\"hasLyrics\":1,\"hasSubtitles\":1,\"numFavourite\":3,\"albumId\":11002173,\"albumName\":\"Playlist Your Way\",\"artistId\":706,\"artistName\":\"Bloodhound Gang\",\"albumCoverart100x100\":\"http://s.mxmcdn.net/images-storage/albums8/6/0/4/1/3/5/11531406.jpg\",\"albumCoverart350x350\":\"http://s.mxmcdn.net/images-storage/albums8/6/0/4/1/3/5/11531406_350_350.jpg\",\"albumCoverart500x500\":\"http://s.mxmcdn.net/images-storage/albums8/6/0/4/1/3/5/11531406_500_500.jpg\",\"albumCoverart800x800\":\"http://s.mxmcdn.net/images-storage/albums8/6/0/4/1/3/5/11531406_800_800.jpg\",\"shareUrl\":\"https://www.musixmatch.com/lyrics/Bloodhound-Gang/Why%E2%80%99s-Everybody-Always-Pickin%E2%80%99-On-Me\",\"commontrackVanityId\":\"Bloodhound-Gang/Why\\u2019s-Everybody-Always-Pickin\\u2019-On-Me\",\"restricted\":0,\"firstReleaseDate\":\"1996-01-01T00:00:00Z\",\"updatedTime\":\"2013-05-08T19:35:46Z\",\"artist\":{\"id\":706,\"name\":\"Bloodhound Gang\",\"comment\":\"\",\"vanityId\":\"Bloodhound-Gang\",\"credits\":[],\"restricted\":0,\"managed\":0}},{\"id\":9009202,\"spotifyId\":\"\",\"soundcloudId\":0,\"name\":\"Bad Touch\",\"rating\":53,\"length\":261,\"instrumental\":0,\"explicit\":0,\"hasLyrics\":1,\"hasSubtitles\":1,\"numFavourite\":160,\"albumId\":11002173,\"albumName\":\"Playlist Your Way\",\"artistId\":706,\"artistName\":\"Bloodhound Gang\",\"albumCoverart100x100\":\"http://s.mxmcdn.net/images-storage/albums8/6/0/4/1/3/5/11531406.jpg\",\"albumCoverart350x350\":\"http://s.mxmcdn.net/images-storage/albums8/6/0/4/1/3/5/11531406_350_350.jpg\",\"albumCoverart500x500\":\"http://s.mxmcdn.net/images-storage/albums8/6/0/4/1/3/5/11531406_500_500.jpg\",\"albumCoverart800x800\":\"http://s.mxmcdn.net/images-storage/albums8/6/0/4/1/3/5/11531406_800_800.jpg\",\"shareUrl\":\"https://www.musixmatch.com/lyrics/Bloodhound-Gang/Bad-Touch\",\"commontrackVanityId\":\"Bloodhound-Gang/Bad-Touch\",\"restricted\":0,\"firstReleaseDate\":\"2007-03-22T00:00:00Z\",\"updatedTime\":\"2016-03-25T19:17:29Z\",\"artist\":{\"id\":706,\"name\":\"Bloodhound Gang\",\"comment\":\"\",\"vanityId\":\"Bloodhound-Gang\",\"credits\":[],\"restricted\":0,\"managed\":0}},{\"id\":9009203,\"spotifyId\":\"\",\"soundcloudId\":0,\"name\":\"Ballad of Chasey Lain\",\"rating\":25,\"length\":144,\"instrumental\":0,\"explicit\":0,\"hasLyrics\":1,\"hasSubtitles\":1,\"numFavourite\":10,\"albumId\":11002173,\"albumName\":\"Playlist Your Way\",\"artistId\":706,\"artistName\":\"Bloodhound Gang\",\"albumCoverart100x100\":\"http://s.mxmcdn.net/images-storage/albums8/6/0/4/1/3/5/11531406.jpg\",\"albumCoverart350x350\":\"http://s.mxmcdn.net/images-storage/albums8/6/0/4/1/3/5/11531406_350_350.jpg\",\"albumCoverart500x500\":\"http://s.mxmcdn.net/images-storage/albums8/6/0/4/1/3/5/11531406_500_500.jpg\",\"albumCoverart800x800\":\"http://s.mxmcdn.net/images-storage/albums8/6/0/4/1/3/5/11531406_800_800.jpg\",\"shareUrl\":\"https://www.musixmatch.com/lyrics/Bloodhound-Gang/Ballad-of-Chasey-Lain\",\"commontrackVanityId\":\"Bloodhound-Gang/Ballad-of-Chasey-Lain\",\"restricted\":0,\"firstReleaseDate\":\"\",\"updatedTime\":\"2011-06-10T15:41:46Z\",\"artist\":{\"id\":706,\"name\":\"Bloodhound Gang\",\"comment\":\"\",\"vanityId\":\"Bloodhound-Gang\",\"credits\":[],\"restricted\":0,\"managed\":0}}],\"apiHeader\":{\"statusCode\":200,\"executeTime\":0.015042066574097,\"available\":14}},\"showingChanges\":false,\"snippet\":{\"id\":13253539,\"language\":\"en\",\"restricted\":0,\"instrumental\":0,\"body\":\"So let\\'s do it like they do on the Discovery Channel\",\"scriptTrackingUrl\":\"http://tracking.musixmatch.com/t1.0/m_js/e_0/sn_1/l_13253539/su_0/tr_M5VbFh1PQ7PbRIf7XhysySqosY+lUu+czPu3+kBF8kjZ72KYD7cqixJZ+3OlmV72ET+VhzMtoR+7EuOeTYr/czaI802Z42/g/YcDqDDQsxnDLuoMJqVVSNkcrVuQP94oHO29MsWr+PkwEofpT38rGi7LBe6h0YNASlrwQf+OI8YXAfAfck51ZwxIVwW+Xmf7IPRr+qGowkEyfCZkq9OvV2FXwa4+tpHz9huTqi82jcAG/HtDEkzkKQOJv0XuUm6NkKlIfyErUGYkSfwayrYYjl4f+31krQie/EFiT0m1/ylgXxsX/vnKrtGTAN4aHMm+88+sRLi5mcuTCiQaJr+oz0MR2ms98jnffBXGzTZvAovLNZzhdD27vyhibR4ztQm4S4mzJIEH+3DNBIclO3aAGBTFnkOEEWfz280Wn7vhqq4nYY8P+UgK9HavrrPwHem82SUE64GwanujDdNsbl5ZrA==/\",\"pixelTrackingUrl\":\"http://tracking.musixmatch.com/t1.0/m_img/e_0/sn_1/l_13253539/su_0/tr_M5VbFh1PQ7PbRIf7XhysySqosY+lUu+czPu3+kBF8kjZ72KYD7cqixJZ+3OlmV72ET+VhzMtoR+7EuOeTYr/czaI802Z42/g/YcDqDDQsxnDLuoMJqVVSNkcrVuQP94oHO29MsWr+PkwEofpT38rGi7LBe6h0YNASlrwQf+OI8YXAfAfck51ZwxIVwW+Xmf7IPRr+qGowkEyfCZkq9OvV2FXwa4+tpHz9huTqi82jcAG/HtDEkzkKQOJv0XuUm6NkKlIfyErUGYkSfwayrYYjl4f+31krQie/EFiT0m1/ylgXxsX/vnKrtGTAN4aHMm+88+sRLi5mcuTCiQaJr+oz0MR2ms98jnffBXGzTZvAovLNZzhdD27vyhibR4ztQm4S4mzJIEH+3DNBIclO3aAGBTFnkOEEWfz280Wn7vhqq4nYY8P+UgK9HavrrPwHem82SUE64GwanujDdNsbl5ZrA==/\",\"htmlTrackingUrl\":\"http://tracking.musixmatch.com/t1.0/m_html/e_0/sn_1/l_13253539/su_0/tr_M5VbFh1PQ7PbRIf7XhysySqosY+lUu+czPu3+kBF8kjZ72KYD7cqixJZ+3OlmV72ET+VhzMtoR+7EuOeTYr/czaI802Z42/g/YcDqDDQsxnDLuoMJqVVSNkcrVuQP94oHO29MsWr+PkwEofpT38rGi7LBe6h0YNASlrwQf+OI8YXAfAfck51ZwxIVwW+Xmf7IPRr+qGowkEyfCZkq9OvV2FXwa4+tpHz9huTqi82jcAG/HtDEkzkKQOJv0XuUm6NkKlIfyErUGYkSfwayrYYjl4f+31krQie/EFiT0m1/ylgXxsX/vnKrtGTAN4aHMm+88+sRLi5mcuTCiQaJr+oz0MR2ms98jnffBXGzTZvAovLNZzhdD27vyhibR4ztQm4S4mzJIEH+3DNBIclO3aAGBTFnkOEEWfz280Wn7vhqq4nYY8P+UgK9HavrrPwHem82SUE64GwanujDdNsbl5ZrA==/\",\"updatedTime\":\"2015-12-18T07:35:02Z\",\"apiHeader\":{\"statusCode\":200,\"executeTime\":0.011560916900635}},\"topArtistTracks\":{\"list\":[{\"id\":34195554,\"name\":\"Mama Say\",\"length\":179,\"instrumental\":0,\"hasLyrics\":1,\"hasSubtitles\":1,\"numFavourite\":1,\"albumId\":15510507,\"albumName\":\"Use Your Fingers\",\"artistId\":706,\"artistName\":\"Bloodhound Gang\",\"albumCoverart100x100\":\"http://s.mxmcdn.net/images-storage/albums/3/0/2/8/4/7/26748203.jpg\",\"albumCoverart350x350\":\"http://s.mxmcdn.net/images-storage/albums/3/0/2/8/4/7/26748203_350_350.jpg\",\"albumCoverart500x500\":\"http://s.mxmcdn.net/images-storage/albums/3/0/2/8/4/7/26748203_500_500.jpg\",\"shareUrl\":\"https://www.musixmatch.com/lyrics/Bloodhound-Gang/Mama-Say\",\"commontrackVanityId\":\"Bloodhound-Gang/Mama-Say\",\"restricted\":0,\"artist\":{\"id\":706,\"name\":\"Bloodhound Gang\",\"comment\":\"\",\"vanityId\":\"Bloodhound-Gang\",\"credits\":[],\"restricted\":0,\"managed\":0}},{\"id\":34195564,\"name\":\"We Like Meat\",\"length\":4,\"instrumental\":0,\"hasLyrics\":1,\"hasSubtitles\":0,\"numFavourite\":2,\"albumId\":15510507,\"albumName\":\"Use Your Fingers\",\"artistId\":706,\"artistName\":\"Bloodhound Gang\",\"albumCoverart100x100\":\"http://s.mxmcdn.net/images-storage/albums/3/0/2/8/4/7/26748203.jpg\",\"albumCoverart350x350\":\"http://s.mxmcdn.net/images-storage/albums/3/0/2/8/4/7/26748203_350_350.jpg\",\"albumCoverart500x500\":\"http://s.mxmcdn.net/images-storage/albums/3/0/2/8/4/7/26748203_500_500.jpg\",\"shareUrl\":\"https://www.musixmatch.com/lyrics/Bloodhound-Gang/We-Like-Meat\",\"commontrackVanityId\":\"Bloodhound-Gang/We-Like-Meat\",\"restricted\":0,\"artist\":{\"id\":706,\"name\":\"Bloodhound Gang\",\"comment\":\"\",\"vanityId\":\"Bloodhound-Gang\",\"credits\":[],\"restricted\":0,\"managed\":0}},{\"id\":4116727,\"name\":\"A Lap Dance Is So Much Better\",\"length\":0,\"instrumental\":0,\"hasLyrics\":1,\"hasSubtitles\":1,\"numFavourite\":2,\"albumId\":10558634,\"albumName\":\"Greatest Hits\",\"artistId\":706,\"artistName\":\"Bloodhound Gang\",\"albumCoverart100x100\":\"http://s.mxmcdn.net/images-storage/albums/6/0/8/9/1/4/11419806.jpg\",\"albumCoverart350x350\":\"http://s.mxmcdn.net/images-storage/albums/6/0/8/9/1/4/11419806_350_350.jpg\",\"albumCoverart500x500\":\"http://s.mxmcdn.net/images-storage/albums/6/0/8/9/1/4/11419806_500_500.jpg\",\"shareUrl\":\"https://www.musixmatch.com/lyrics/Bloodhound-Gang/A-Lap-Dance-Is-So-Much-Better\",\"commontrackVanityId\":\"Bloodhound-Gang/A-Lap-Dance-Is-So-Much-Better\",\"restricted\":0,\"artist\":{\"id\":706,\"name\":\"Bloodhound Gang\",\"comment\":\"\",\"vanityId\":\"Bloodhound-Gang\",\"credits\":[],\"restricted\":0,\"managed\":0}},{\"id\":13834567,\"name\":\"I Wish I Was Queer So I Could Get Chicks\",\"length\":229,\"instrumental\":0,\"hasLyrics\":1,\"hasSubtitles\":1,\"numFavourite\":12,\"albumId\":10345216,\"albumName\":\"One Fierce Beer Coaster\",\"artistId\":706,\"artistName\":\"Bloodhound Gang\",\"albumCoverart100x100\":\"http://s.mxmcdn.net/images-storage/albums/7/3/3/8/0/7/11708337.jpg\",\"albumCoverart350x350\":\"http://s.mxmcdn.net/images-storage/albums/7/3/3/8/0/7/11708337_350_350.jpg\",\"albumCoverart500x500\":\"http://s.mxmcdn.net/images-storage/albums/7/3/3/8/0/7/11708337_500_500.jpg\",\"shareUrl\":\"https://www.musixmatch.com/lyrics/Bloodhound-Gang/I-Wish-I-Was-Queer-So-I-Could-Get-Chicks\",\"commontrackVanityId\":\"Bloodhound-Gang/I-Wish-I-Was-Queer-So-I-Could-Get-Chicks\",\"restricted\":0,\"artist\":{\"id\":706,\"name\":\"Bloodhound Gang\",\"comment\":\"\",\"vanityId\":\"Bloodhound-Gang\",\"credits\":[],\"restricted\":0,\"managed\":0}},{\"id\":14550889,\"name\":\"Mope\",\"length\":277,\"instrumental\":0,\"hasLyrics\":1,\"hasSubtitles\":1,\"numFavourite\":41,\"albumId\":10278059,\"albumName\":\"Hooray for Boobies\",\"artistId\":706,\"artistName\":\"Bloodhound Gang\",\"albumCoverart100x100\":\"http://s.mxmcdn.net/images-storage/albums/1/3/7/0/2/9/11920731.jpg\",\"albumCoverart350x350\":\"http://s.mxmcdn.net/images-storage/albums/1/3/7/0/2/9/11920731_350_350.jpg\",\"albumCoverart500x500\":\"http://s.mxmcdn.net/images-storage/albums/1/3/7/0/2/9/11920731_500_500.jpg\",\"shareUrl\":\"https://www.musixmatch.com/lyrics/Bloodhound-Gang/Mope\",\"commontrackVanityId\":\"Bloodhound-Gang/Mope\",\"restricted\":0,\"artist\":{\"id\":706,\"name\":\"Bloodhound Gang\",\"comment\":\"\",\"vanityId\":\"Bloodhound-Gang\",\"credits\":[],\"restricted\":0,\"managed\":0}},{\"id\":89595445,\"name\":\"Balls Out\",\"length\":259,\"instrumental\":0,\"hasLyrics\":1,\"hasSubtitles\":1,\"numFavourite\":18,\"albumId\":21221197,\"albumName\":\"Hefty Fine [UK Version (Explicit)]\",\"artistId\":706,\"artistName\":\"Bloodhound Gang\",\"albumCoverart100x100\":\"http://s.mxmcdn.net/images/albums/nocover.png\",\"albumCoverart350x350\":\"\",\"albumCoverart500x500\":\"\",\"shareUrl\":\"https://www.musixmatch.com/lyrics/Bloodhound-Gang/Balls-Out\",\"commontrackVanityId\":\"Bloodhound-Gang/Balls-Out\",\"restricted\":0,\"artist\":{\"id\":706,\"name\":\"Bloodhound Gang\",\"comment\":\"\",\"vanityId\":\"Bloodhound-Gang\",\"credits\":[],\"restricted\":0,\"managed\":0}},{\"id\":89595453,\"name\":\"Pennsylvania\",\"length\":177,\"instrumental\":0,\"hasLyrics\":1,\"hasSubtitles\":1,\"numFavourite\":13,\"albumId\":21221197,\"albumName\":\"Hefty Fine [UK Version (Explicit)]\",\"artistId\":706,\"artistName\":\"Bloodhound Gang\",\"albumCoverart100x100\":\"http://s.mxmcdn.net/images/albums/nocover.png\",\"albumCoverart350x350\":\"\",\"albumCoverart500x500\":\"\",\"shareUrl\":\"https://www.musixmatch.com/lyrics/Bloodhound-Gang/Pennsylvania\",\"commontrackVanityId\":\"Bloodhound-Gang/Pennsylvania\",\"restricted\":0,\"artist\":{\"id\":706,\"name\":\"Bloodhound Gang\",\"comment\":\"\",\"vanityId\":\"Bloodhound-Gang\",\"credits\":[],\"restricted\":0,\"managed\":0}}],\"apiHeader\":{\"statusCode\":200,\"executeTime\":0.026346921920776,\"available\":211}}}};']"
      ]
     },
     "execution_count": 36,
     "metadata": {},
     "output_type": "execute_result"
    }
   ],
   "source": [
    "import json\n",
    "\n",
    "pattern = re.compile(ur'var __mxmState = (.*?);',re.UNICODE)\n",
    "\n",
    "foo = tmp.text.split(\"__mxmState = \")\n",
    "    \n",
    "#print tmp.prettify"
   ]
  },
  {
   "cell_type": "code",
   "execution_count": 26,
   "metadata": {
    "collapsed": false
   },
   "outputs": [
    {
     "ename": "AttributeError",
     "evalue": "'ResultSet' object has no attribute 'text'",
     "output_type": "error",
     "traceback": [
      "\u001b[0;31m---------------------------------------------------------------------------\u001b[0m",
      "\u001b[0;31mAttributeError\u001b[0m                            Traceback (most recent call last)",
      "\u001b[0;32m<ipython-input-26-3c60d06676e0>\u001b[0m in \u001b[0;36m<module>\u001b[0;34m()\u001b[0m\n\u001b[0;32m----> 1\u001b[0;31m \u001b[0mfoo\u001b[0m \u001b[0;34m=\u001b[0m \u001b[0mtmp\u001b[0m\u001b[0;34m.\u001b[0m\u001b[0mtext\u001b[0m\u001b[0;34m.\u001b[0m\u001b[0msplit\u001b[0m\u001b[0;34m(\u001b[0m\u001b[0;34m\"var __mxmProps = \"\u001b[0m\u001b[0;34m)\u001b[0m\u001b[0;34m\u001b[0m\u001b[0m\n\u001b[0m\u001b[1;32m      2\u001b[0m \u001b[0;32mprint\u001b[0m \u001b[0mfoo\u001b[0m\u001b[0;34m\u001b[0m\u001b[0m\n",
      "\u001b[0;31mAttributeError\u001b[0m: 'ResultSet' object has no attribute 'text'"
     ]
    }
   ],
   "source": []
  },
  {
   "cell_type": "code",
   "execution_count": 1,
   "metadata": {
    "collapsed": true
   },
   "outputs": [],
   "source": [
    "import requests\n",
    "import urllib\n",
    "from urllib import quote_plus, quote\n",
    "from urlparse import urljoin\n",
    "from bs4 import BeautifulSoup\n",
    "import re\n",
    "\n",
    "import pdb \n",
    "\n",
    "def get_song_lyrics(song_title=None,artist=None):\n",
    "\n",
    "    #pdb.set_trace()\n",
    "    if song_title is None:\n",
    "        song_title = raw_input(\"Please enter a song title: \")\n",
    "        artist = raw_input(\"Who is the artist?\")\n",
    "        \n",
    "    if artist is not None:\n",
    "\n",
    "        originalTitle = song_title\n",
    "        originalArtist = artist\n",
    "\n",
    "        artist = re.sub(\"[\\.&]\",\"\",artist)\n",
    "        artist = re.sub(\" +\",\"-\",artist)\n",
    "        artist = re.sub(\"Featuring\",\"feat\",artist)\n",
    "        song_title = re.sub(\"\\'\",\"-\",song_title)\n",
    "        song_title = re.sub(\" \",\"-\",song_title)\n",
    "\n",
    "        url2 = \"https://www.musixmatch.com/lyrics/\" + artist + \\\n",
    "                           \"/\" + song_title\n",
    "\n",
    "        print url2\n",
    "\n",
    "        try:\n",
    "            response = urllib.urlopen(url2).read()\n",
    "            soup = BeautifulSoup(response,'lxml')\n",
    "            tmp = soup.find_all(\"script\")\n",
    "\n",
    "            lyrics = re.findall(\"body\\\":\\\"(.*?)\\\"\",response)\n",
    "\n",
    "            title = originalArtist + \": \" + originalTitle\n",
    "            print \"found lyrics on musixmatch!\"\n",
    "            return lyrics, title\n",
    "        except:\n",
    "            print \"couldn't find on musixmatch\"\n",
    "            pass\n",
    "\n",
    "    print \"searching chartlyrics\"\n",
    "    BASE_URL = \"http://www.chartlyrics.com/\"\n",
    "    #queryString = \"track.search?q_track=\" #chartlyrics would return a soap object if i properly queried it\n",
    "    searchURL = BASE_URL + \"search.aspx?q=\" + song_title\n",
    "    \n",
    "    fullurl = quote_plus(searchURL, safe=\"%/:=&?~#!+$,;'@()*[]\")\n",
    "    #fullurl = quote(searchURL, safe=\"%/:=&?~#!+$,;'@()*[]\")\n",
    "\n",
    "    response = requests.get(fullurl)\n",
    "    soup = BeautifulSoup(response.text,'lxml')\n",
    "\n",
    "    tmp = soup.find_all('a')\n",
    "    song_link = tmp[5];\n",
    "\n",
    "    # i could also do soup.find('table')\n",
    "\n",
    "    link = urljoin(BASE_URL, song_link['href'])\n",
    "    response = requests.get(link);\n",
    "\n",
    "    soup = BeautifulSoup(response.text,'lxml')\n",
    "    lyrics_box = soup.find('p')#.text.strip()\n",
    "\n",
    "    try:\n",
    "        lyrics = lyrics_box.text.strip()\n",
    "\n",
    "        title = soup.find('head').find('title').text\n",
    "\n",
    "        # re.findall(\"u\\'(.*)\\\\t\",\n",
    "\n",
    "    except:\n",
    "        \n",
    "            print \"Couldn't find the lyrics. Try another song.\"\n",
    "            return\n",
    "    return lyrics, title"
   ]
  },
  {
   "cell_type": "code",
   "execution_count": null,
   "metadata": {
    "collapsed": true
   },
   "outputs": [],
   "source": [
    "'''some interesting charts- heatseekers-songs, r-b-hip-hop-songs, rock-songs, dance-electronic-songs, \n",
    "country-songs, adult-contemporary'''\n",
    "\n",
    "import billboard\n",
    "\n",
    "def build_chart_db(chart='top-100',StartDate=None,EndDate=None,date=None):\n",
    "    \n",
    "    if date = None and StartDate=None and EndDate=None:\n",
    "        ChartData = billboard.ChartData(chart)\n",
    "    # we will do some elifs later    \n",
    "    else:\n",
    "        ChartData = billboard.ChartData(chart,date)\n",
    "    "
   ]
  },
  {
   "cell_type": "code",
   "execution_count": 4,
   "metadata": {
    "collapsed": false
   },
   "outputs": [
    {
     "name": "stdout",
     "output_type": "stream",
     "text": [
      "top-100 chart (current)\n",
      "-----------------------\n"
     ]
    }
   ],
   "source": [
    "import billboard\n",
    "\n",
    "chart = billboard.ChartData('top-100')\n",
    "\n",
    "print chart"
   ]
  },
  {
   "cell_type": "code",
   "execution_count": null,
   "metadata": {
    "collapsed": true
   },
   "outputs": [],
   "source": [
    "'''this guy is going to take title and artist from the chart db and make lyric features for every song; \n",
    "this will then be joined to the other guy in a big data frame maybe? or csv\n",
    "'''\n",
    "\n",
    "def build_lyric_db_from_chart():"
   ]
  }
 ],
 "metadata": {
  "kernelspec": {
   "display_name": "Python 2",
   "language": "python",
   "name": "python2"
  },
  "language_info": {
   "codemirror_mode": {
    "name": "ipython",
    "version": 2
   },
   "file_extension": ".py",
   "mimetype": "text/x-python",
   "name": "python",
   "nbconvert_exporter": "python",
   "pygments_lexer": "ipython2",
   "version": "2.7.11"
  }
 },
 "nbformat": 4,
 "nbformat_minor": 0
}
