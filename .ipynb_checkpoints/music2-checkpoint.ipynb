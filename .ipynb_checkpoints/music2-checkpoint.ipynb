{
 "cells": [
  {
   "cell_type": "code",
   "execution_count": null,
   "metadata": {
    "collapsed": false
   },
   "outputs": [],
   "source": [
    "import requests\n",
    "import urllib\n",
    "from urllib import quote_plus, quote\n",
    "from urlparse import urljoin\n",
    "from bs4 import BeautifulSoup\n",
    "import re\n",
    "\n",
    "import pdb \n",
    "\n",
    "def get_song_lyrics(song_title=None,artist=None):\n",
    "\n",
    "    #pdb.set_trace()\n",
    "    if song_title not in locals():\n",
    "        song_title = raw_input(\"Please enter a song title: \")\n",
    "        artist = raw_input(\"Who is the artist?\")\n",
    "        \n",
    "    BASE_URL = \"http://www.chartlyrics.com/\"\n",
    "    #queryString = \"track.search?q_track=\" #chartlyrics would return a soap object if i properly queried it\n",
    "    searchURL = BASE_URL + \"search.aspx?q=\" + song_title\n",
    "    \n",
    "    fullurl = quote_plus(searchURL, safe=\"%/:=&?~#!+$,;'@()*[]\")\n",
    "    #fullurl = quote(searchURL, safe=\"%/:=&?~#!+$,;'@()*[]\")\n",
    "\n",
    "    response = requests.get(fullurl)\n",
    "    soup = BeautifulSoup(response.text,'lxml')\n",
    "\n",
    "    tmp = soup.find_all('a')\n",
    "    song_link = tmp[5];\n",
    "\n",
    "    # i could also do soup.find('table')\n",
    "\n",
    "    link = urljoin(BASE_URL, song_link['href'])\n",
    "    response = requests.get(link);\n",
    "\n",
    "    soup = BeautifulSoup(response.text,'lxml')\n",
    "    title = soup.find('head').find('title')\n",
    "# \\\\r(.*[^\\t])\\\\t\n",
    "    lyrics_box = soup.find('p')#.text.strip()\n",
    "\n",
    "    try:\n",
    "        lyrics = lyrics_box.text.strip()\n",
    "    except:\n",
    "        if len(artist)<1:\n",
    "            artist = rawinput(\"I\\'m having trouble finding that song. Who sings it? \\n\")\n",
    "        \n",
    "        try:\n",
    "            artist = re.sub(\"\\.\",\"\",artist)\n",
    "            song_title = re.sub(\"\\'\",\"-\",song_title)\n",
    "            url2 = \"https://www.musixmatch.com/lyrics/\" + re.sub(\" \",\"-\",artist) + \\\n",
    "                               \"/\" + re.sub(\" \",\"-\",song_title)\n",
    "            response = urllib.urlopen(url2).read()\n",
    "            soup = BeautifulSoup(response,'lxml')\n",
    "            tmp = soup.find_all(\"script\")\n",
    "\n",
    "            lyrics = re.findall(\"body\\\":\\\"(.*?)\\\"\",response)\n",
    "            title=\"\"\n",
    "        except:\n",
    "            print \"Couldn't find the lyrics. Try another song.\"\n",
    "            return\n",
    "    return lyrics, title\n",
    "    #lines = lyrics.splitlines()"
   ]
  },
  {
   "cell_type": "code",
   "execution_count": null,
   "metadata": {
    "collapsed": false
   },
   "outputs": [],
   "source": [
    "import nltk\n",
    "from nltk.tokenizer import "
   ]
  },
  {
   "cell_type": "code",
   "execution_count": 117,
   "metadata": {
    "collapsed": false
   },
   "outputs": [
    {
     "data": {
      "text/plain": [
       "'R Kelly'"
      ]
     },
     "execution_count": 117,
     "metadata": {},
     "output_type": "execute_result"
    }
   ],
   "source": [
    "artist = \"R. Kelly\"\n",
    "\n",
    "artist = re.sub(\"\\.\",\"\",artist)\n",
    "artist"
   ]
  },
  {
   "cell_type": "code",
   "execution_count": 148,
   "metadata": {
    "collapsed": false
   },
   "outputs": [
    {
     "data": {
      "text/plain": [
       "<title data-react-helmet=\"true\">R. Kelly - I Believe I Can Fly lyrics | Musixmatch</title>"
      ]
     },
     "execution_count": 148,
     "metadata": {},
     "output_type": "execute_result"
    }
   ],
   "source": [
    "title = soup.find('head').find('title')\n",
    "\n",
    "title\n"
   ]
  },
  {
   "cell_type": "code",
   "execution_count": null,
   "metadata": {
    "collapsed": true
   },
   "outputs": [],
   "source": []
  }
 ],
 "metadata": {
  "kernelspec": {
   "display_name": "Python 2",
   "language": "python",
   "name": "python2"
  },
  "language_info": {
   "codemirror_mode": {
    "name": "ipython",
    "version": 2
   },
   "file_extension": ".py",
   "mimetype": "text/x-python",
   "name": "python",
   "nbconvert_exporter": "python",
   "pygments_lexer": "ipython2",
   "version": "2.7.11"
  }
 },
 "nbformat": 4,
 "nbformat_minor": 0
}
