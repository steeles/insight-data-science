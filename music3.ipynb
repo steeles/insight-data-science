{
 "cells": [
  {
   "cell_type": "code",
   "execution_count": 46,
   "metadata": {
    "collapsed": false
   },
   "outputs": [
    {
     "name": "stdout",
     "output_type": "stream",
     "text": [
      "https://www.musixmatch.com/lyrics/Bloodhound-Gang/Bad-Touch\n",
      "found lyrics on musixmatch!\n",
      "Me and you do the kind of stuff that only Prince would sing about\\nSo put your hands down my pants and I'll bet you'll feel nuts\\n\\nYes I'm Siskel yes I'm Ebert and you're getting two thumbs up\\n\\nYou've had enough of two-hand touch you want it rough you're out of bounds\\nI want you smothered want you covered like my Waffle House hashbrowns\\nComin' quicker than FedEx never reach an apex\\njust like Coca-Cola stock you are inclined\\nTo make me rise an hour early just like Daylight Savings Time\\nDo it now\\nYou and me baby ain't nothin' but mammals\\nSo let's do it like they do on the Discovery Channel\\nDo it again now\\n\\nYou and me baby ain't nothin' but mammals\\nSo let's do it like they do on the Discovery Channel\\nGettin' horny now\\nLove the kind you clean up with a mop and bucket\\nLike the lost catacombs of Egypt only God knows where we stuck it\\nHieroglyphics? Let me be Pacific I wanna be down in your South Seas\\nBut I got this notion that the motion of your ocean means small craft advisory\\n\\nSo if I capsize on your thighs high tide B-5 you sunk my battleship\\nPlease turn me on I'm Mister Coffee with an automatic drip\\nSo show me yours I'll show you mine \\\n"
     ]
    }
   ],
   "source": [
    "import requests\n",
    "import urllib\n",
    "from urllib import quote_plus, quote\n",
    "from urlparse import urljoin\n",
    "from bs4 import BeautifulSoup\n",
    "import re\n",
    "\n",
    "import pdb \n",
    "\n",
    "song_title=\"Bad Touch\"\n",
    "artist = \"Bloodhound Gang\"\n",
    "\n",
    "if song_title is None:\n",
    "    song_title = raw_input(\"Please enter a song title: \")\n",
    "    artist = raw_input(\"Who is the artist?\")\n",
    "\n",
    "#if artist is not None:\n",
    "\n",
    "originalTitle = song_title\n",
    "originalArtist = artist\n",
    "\n",
    "artist = re.sub(\"[\\.&]\",\"\",artist)\n",
    "artist = re.sub(\" +\",\"-\",artist)\n",
    "artist = re.sub(\"Featuring\",\"feat\",artist)\n",
    "song_title = re.sub(\"\\'\",\"-\",song_title)\n",
    "song_title = re.sub(\" \",\"-\",song_title)\n",
    "\n",
    "url2 = \"https://www.musixmatch.com/lyrics/\" + artist + \\\n",
    "                   \"/\" + song_title\n",
    "\n",
    "print url2\n",
    "\n",
    "\n",
    "response = urllib.urlopen(url2).read()\n",
    "soup = BeautifulSoup(response,'lxml')\n",
    "\n",
    "scripts = soup.find_all(\"script\")\n",
    "\n",
    "for script in scripts:\n",
    "    tmp = script.text.split(\"__mxmState = \")\n",
    "    if len(tmp)>1:\n",
    "        data = tmp[1][:-1]\n",
    "        jsdata = json.loads(data)\n",
    "        break\n",
    "\n",
    "#lyrics = re.findall(\"body\\\":\\\"(.*?)\\\"\",response)\n",
    "\n",
    "lyrics = jsdata['page']['lyrics']['lyrics']['body']\n",
    "\n",
    "title = originalArtist + \": \" + originalTitle\n",
    "print \"found lyrics on musixmatch!\"\n",
    "print lyrics[0]\n",
    "#return lyrics, title\n",
    "\n",
    "\n"
   ]
  },
  {
   "cell_type": "code",
   "execution_count": 53,
   "metadata": {
    "collapsed": false
   },
   "outputs": [
    {
     "data": {
      "text/plain": [
       "[u'embedly', u'lyrics', u'page']"
      ]
     },
     "execution_count": 53,
     "metadata": {},
     "output_type": "execute_result"
    }
   ],
   "source": [
    "import json\n",
    "\n",
    "#pattern = re.compile(ur'var __mxmState = (.*?);',re.UNICODE)\n",
    "\n",
    "jsdata.keys()\n",
    "# foo = tmp.text.split(\"__mxmState = \")[1][:-1]\n",
    "# json.loads(foo)\n",
    "# #print tmp.prettify\n",
    "\n"
   ]
  },
  {
   "cell_type": "code",
   "execution_count": 62,
   "metadata": {
    "collapsed": false
   },
   "outputs": [],
   "source": [
    "\n",
    "\n",
    "lyrics = jsdata['page']['lyrics']['lyrics']['body']\n",
    "\n"
   ]
  },
  {
   "cell_type": "code",
   "execution_count": 65,
   "metadata": {
    "collapsed": false
   },
   "outputs": [
    {
     "name": "stdout",
     "output_type": "stream",
     "text": [
      "I'd appreciate your input.\n",
      "Sweat baby sweat baby sex is a Texas drought\n",
      "Me and you do the kind of stuff that only Prince would sing about\n",
      "\n",
      "So put your hands down my pants and I'll bet you'll feel nuts\n",
      "\n",
      "Yes I'm Siskel yes I'm Ebert and you're getting two thumbs up\n",
      "You've had enough of two-hand touch you want it rough you're out of bounds\n",
      "I want you smothered want you covered like my Waffle House hashbrowns\n",
      "Comin' quicker than FedEx never reach an apex\n",
      "just like Coca-Cola stock you are inclined\n",
      "To make me rise an hour early just like Daylight Savings Time\n",
      "Do it now\n",
      "You and me baby ain't nothin' but mammals\n",
      "So let's do it like they do on the Discovery Channel\n",
      "\n",
      "Do it again now\n",
      "You and me baby ain't nothin' but mammals\n",
      "So let's do it like they do on the Discovery Channel\n",
      "Gettin' horny now\n",
      "Love the kind you clean up with a mop and bucket\n",
      "Like the lost catacombs of Egypt only God knows where we stuck it\n",
      "Hieroglyphics? Let me be Pacific I wanna be down in your South Seas\n",
      "\n",
      "But I got this notion that the motion of your ocean means small craft advisory\n",
      "So if I capsize on your thighs high tide B-5 you sunk my battleship\n",
      "Please turn me on I'm Mister Coffee with an automatic drip\n",
      "So show me yours I'll show you mine \"Tool Time\" you'll Lovett just like Lyle\n",
      "And then we'll do it doggy style so we can both watch \"X-Files\"\n",
      "Do it now\n",
      "You and me baby ain't nothin' but mammals\n",
      "So let's do it like they do on the Discovery Channel\n",
      "\n",
      "Do it again now\n",
      "You and me baby ain't nothin' but mammals\n",
      "So let's do it like they do on the Discovery Channel\n",
      "Gettin' horny now\n",
      "You and me baby ain't nothin' but mammals\n",
      "So let's do it like they do on the Discovery Channel\n",
      "Do it again now\n",
      "\n",
      "You and me baby ain't nothin' but mammals\n",
      "So let's do it like they do on the Discovery Channel\n",
      "Do it now\n",
      "You and me baby ain't nothin' but mammals\n",
      "So let's do it like they do on the Discovery Channel\n",
      "Do it again now\n",
      "You and me baby ain't nothin' but mammals\n",
      "So let's do it like they do on the Discovery Channel\n",
      "Gettin' horny now\n"
     ]
    }
   ],
   "source": [
    "print lyrics"
   ]
  },
  {
   "cell_type": "code",
   "execution_count": 1,
   "metadata": {
    "collapsed": true
   },
   "outputs": [],
   "source": [
    "import requests\n",
    "import urllib\n",
    "from urllib import quote_plus, quote\n",
    "from urlparse import urljoin\n",
    "from bs4 import BeautifulSoup\n",
    "import re\n",
    "\n",
    "import pdb \n",
    "\n",
    "def get_song_lyrics(song_title=None,artist=None):\n",
    "\n",
    "    #pdb.set_trace()\n",
    "    if song_title is None:\n",
    "        song_title = raw_input(\"Please enter a song title: \")\n",
    "        artist = raw_input(\"Who is the artist?\")\n",
    "        \n",
    "    if artist is not None:\n",
    "\n",
    "        originalTitle = song_title\n",
    "        originalArtist = artist\n",
    "\n",
    "        artist = re.sub(\"[\\.&]\",\"\",artist)\n",
    "        artist = re.sub(\" +\",\"-\",artist)\n",
    "        artist = re.sub(\"Featuring\",\"feat\",artist)\n",
    "        song_title = re.sub(\"\\'\",\"-\",song_title)\n",
    "        song_title = re.sub(\" \",\"-\",song_title)\n",
    "\n",
    "        url2 = \"https://www.musixmatch.com/lyrics/\" + artist + \\\n",
    "                           \"/\" + song_title\n",
    "\n",
    "        print url2\n",
    "\n",
    "        try:\n",
    "            response = urllib.urlopen(url2).read()\n",
    "            soup = BeautifulSoup(response,'lxml')\n",
    "            tmp = soup.find_all(\"script\")\n",
    "\n",
    "            lyrics = re.findall(\"body\\\":\\\"(.*?)\\\"\",response)\n",
    "\n",
    "            title = originalArtist + \": \" + originalTitle\n",
    "            print \"found lyrics on musixmatch!\"\n",
    "            return lyrics, title\n",
    "        except:\n",
    "            print \"couldn't find on musixmatch\"\n",
    "            pass\n",
    "\n",
    "    print \"searching chartlyrics\"\n",
    "    BASE_URL = \"http://www.chartlyrics.com/\"\n",
    "    #queryString = \"track.search?q_track=\" #chartlyrics would return a soap object if i properly queried it\n",
    "    searchURL = BASE_URL + \"search.aspx?q=\" + song_title\n",
    "    \n",
    "    fullurl = quote_plus(searchURL, safe=\"%/:=&?~#!+$,;'@()*[]\")\n",
    "    #fullurl = quote(searchURL, safe=\"%/:=&?~#!+$,;'@()*[]\")\n",
    "\n",
    "    response = requests.get(fullurl)\n",
    "    soup = BeautifulSoup(response.text,'lxml')\n",
    "\n",
    "    tmp = soup.find_all('a')\n",
    "    song_link = tmp[5];\n",
    "\n",
    "    # i could also do soup.find('table')\n",
    "\n",
    "    link = urljoin(BASE_URL, song_link['href'])\n",
    "    response = requests.get(link);\n",
    "\n",
    "    soup = BeautifulSoup(response.text,'lxml')\n",
    "    lyrics_box = soup.find('p')#.text.strip()\n",
    "\n",
    "    try:\n",
    "        lyrics = lyrics_box.text.strip()\n",
    "\n",
    "        title = soup.find('head').find('title').text\n",
    "\n",
    "        # re.findall(\"u\\'(.*)\\\\t\",\n",
    "\n",
    "    except:\n",
    "        \n",
    "            print \"Couldn't find the lyrics. Try another song.\"\n",
    "            return\n",
    "    return lyrics, title\n",
    "\n",
    "\n"
   ]
  },
  {
   "cell_type": "code",
   "execution_count": null,
   "metadata": {
    "collapsed": true
   },
   "outputs": [],
   "source": [
    "'''some interesting charts- heatseekers-songs, r-b-hip-hop-songs, rock-songs, dance-electronic-songs, \n",
    "country-songs, adult-contemporary'''\n",
    "\n",
    "import billboard\n",
    "\n",
    "def build_chart_db(chart='top-100',StartDate=None,EndDate=None,date=None):\n",
    "    \n",
    "    if date = None and StartDate=None and EndDate=None:\n",
    "        ChartData = billboard.ChartData(chart)\n",
    "    # we will do some elifs later    \n",
    "    else:\n",
    "        ChartData = billboard.ChartData(chart,date)\n",
    "    "
   ]
  },
  {
   "cell_type": "code",
   "execution_count": 66,
   "metadata": {
    "collapsed": false
   },
   "outputs": [
    {
     "name": "stdout",
     "output_type": "stream",
     "text": [
      "top-100 chart (current)\n",
      "-----------------------\n"
     ]
    }
   ],
   "source": [
    "import billboard\n",
    "\n",
    "chart = billboard.ChartData('top-100')\n",
    "\n",
    "print chart\n",
    "\n",
    "\n",
    "\n",
    "\n"
   ]
  },
  {
   "cell_type": "code",
   "execution_count": null,
   "metadata": {
    "collapsed": true
   },
   "outputs": [],
   "source": [
    "'''this guy is going to take title and artist from the chart db and make lyric features for every song; \n",
    "this will then be joined to the other guy in a big data frame maybe? or csv\n",
    "'''\n",
    "\n",
    "def build_lyric_db_from_chart():"
   ]
  }
 ],
 "metadata": {
  "kernelspec": {
   "display_name": "Python 2",
   "language": "python",
   "name": "python2"
  },
  "language_info": {
   "codemirror_mode": {
    "name": "ipython",
    "version": 2
   },
   "file_extension": ".py",
   "mimetype": "text/x-python",
   "name": "python",
   "nbconvert_exporter": "python",
   "pygments_lexer": "ipython2",
   "version": "2.7.11"
  }
 },
 "nbformat": 4,
 "nbformat_minor": 0
}
